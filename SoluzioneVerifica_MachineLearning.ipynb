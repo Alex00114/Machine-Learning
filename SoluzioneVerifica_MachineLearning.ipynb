{
  "nbformat": 4,
  "nbformat_minor": 0,
  "metadata": {
    "colab": {
      "provenance": [],
      "collapsed_sections": [
        "YPdspAL5GRIR",
        "zblUKduKGl3H",
        "Onq0W4OoCYM5",
        "YCByqbxWCbKz",
        "TRR3ctuIDQ2v",
        "YMyOEgvrDfhl",
        "Mt45Y2xRDnxr",
        "eovJGRhjDuQF",
        "b0i6DXqxEQeR",
        "IGBfJvOGEc6X",
        "gic8FHSwG0yi",
        "_vgmIt3vFQac",
        "dO2d-bx6IZRd",
        "g165XASPIeNv",
        "G81vDmwiIv4r"
      ]
    },
    "kernelspec": {
      "name": "python3",
      "display_name": "Python 3"
    },
    "language_info": {
      "name": "python"
    }
  },
  "cells": [
    {
      "cell_type": "markdown",
      "source": [
        "# ESERCIZIO 1"
      ],
      "metadata": {
        "id": "YPdspAL5GRIR"
      }
    },
    {
      "cell_type": "code",
      "source": [
        "from google.colab import drive\n",
        "drive.mount('/content/drive')"
      ],
      "metadata": {
        "colab": {
          "base_uri": "https://localhost:8080/"
        },
        "id": "0EDvOMqv9ly_",
        "outputId": "20608f97-1bae-45a2-80f6-c59533863522"
      },
      "execution_count": null,
      "outputs": [
        {
          "output_type": "stream",
          "name": "stdout",
          "text": [
            "Mounted at /content/drive\n"
          ]
        }
      ]
    },
    {
      "cell_type": "code",
      "execution_count": null,
      "metadata": {
        "id": "I0lx171EGNLV",
        "colab": {
          "base_uri": "https://localhost:8080/",
          "height": 485
        },
        "outputId": "1af48f47-6159-4532-d40c-407436784074"
      },
      "outputs": [
        {
          "output_type": "execute_result",
          "data": {
            "text/plain": [
              "     Sample code number  Clump Thickness  Uniformity of Cell Size  \\\n",
              "0               1000025                5                        1   \n",
              "1               1002945                5                        4   \n",
              "2               1015425                3                        1   \n",
              "3               1016277                6                        8   \n",
              "4               1017023                4                        1   \n",
              "..                  ...              ...                      ...   \n",
              "694              776715                3                        1   \n",
              "695              841769                2                        1   \n",
              "696              888820                5                       10   \n",
              "697              897471                4                        8   \n",
              "698              897471                4                        8   \n",
              "\n",
              "     Uniformity of Cell Shape  Marginal Adhesion  Single Epithelial Cell Size  \\\n",
              "0                           1                  1                            2   \n",
              "1                           4                  5                            7   \n",
              "2                           1                  1                            2   \n",
              "3                           8                  1                            3   \n",
              "4                           1                  3                            2   \n",
              "..                        ...                ...                          ...   \n",
              "694                         1                  1                            3   \n",
              "695                         1                  1                            2   \n",
              "696                        10                  3                            7   \n",
              "697                         6                  4                            3   \n",
              "698                         8                  5                            4   \n",
              "\n",
              "    Bare Nuclei  Bland Chromatin  Normal Nucleoli  Mitoses  Class  \n",
              "0             1                3                1        1      2  \n",
              "1            10                3                2        1      2  \n",
              "2             2                3                1        1      2  \n",
              "3             4                3                7        1      2  \n",
              "4             1                3                1        1      2  \n",
              "..          ...              ...              ...      ...    ...  \n",
              "694           2                1                1        1      2  \n",
              "695           1                1                1        1      2  \n",
              "696           3                8               10        2      4  \n",
              "697           4               10                6        1      4  \n",
              "698           5               10                4        1      4  \n",
              "\n",
              "[699 rows x 11 columns]"
            ],
            "text/html": [
              "\n",
              "  <div id=\"df-917e6753-0edb-491a-a250-0699f9fb9be6\">\n",
              "    <div class=\"colab-df-container\">\n",
              "      <div>\n",
              "<style scoped>\n",
              "    .dataframe tbody tr th:only-of-type {\n",
              "        vertical-align: middle;\n",
              "    }\n",
              "\n",
              "    .dataframe tbody tr th {\n",
              "        vertical-align: top;\n",
              "    }\n",
              "\n",
              "    .dataframe thead th {\n",
              "        text-align: right;\n",
              "    }\n",
              "</style>\n",
              "<table border=\"1\" class=\"dataframe\">\n",
              "  <thead>\n",
              "    <tr style=\"text-align: right;\">\n",
              "      <th></th>\n",
              "      <th>Sample code number</th>\n",
              "      <th>Clump Thickness</th>\n",
              "      <th>Uniformity of Cell Size</th>\n",
              "      <th>Uniformity of Cell Shape</th>\n",
              "      <th>Marginal Adhesion</th>\n",
              "      <th>Single Epithelial Cell Size</th>\n",
              "      <th>Bare Nuclei</th>\n",
              "      <th>Bland Chromatin</th>\n",
              "      <th>Normal Nucleoli</th>\n",
              "      <th>Mitoses</th>\n",
              "      <th>Class</th>\n",
              "    </tr>\n",
              "  </thead>\n",
              "  <tbody>\n",
              "    <tr>\n",
              "      <th>0</th>\n",
              "      <td>1000025</td>\n",
              "      <td>5</td>\n",
              "      <td>1</td>\n",
              "      <td>1</td>\n",
              "      <td>1</td>\n",
              "      <td>2</td>\n",
              "      <td>1</td>\n",
              "      <td>3</td>\n",
              "      <td>1</td>\n",
              "      <td>1</td>\n",
              "      <td>2</td>\n",
              "    </tr>\n",
              "    <tr>\n",
              "      <th>1</th>\n",
              "      <td>1002945</td>\n",
              "      <td>5</td>\n",
              "      <td>4</td>\n",
              "      <td>4</td>\n",
              "      <td>5</td>\n",
              "      <td>7</td>\n",
              "      <td>10</td>\n",
              "      <td>3</td>\n",
              "      <td>2</td>\n",
              "      <td>1</td>\n",
              "      <td>2</td>\n",
              "    </tr>\n",
              "    <tr>\n",
              "      <th>2</th>\n",
              "      <td>1015425</td>\n",
              "      <td>3</td>\n",
              "      <td>1</td>\n",
              "      <td>1</td>\n",
              "      <td>1</td>\n",
              "      <td>2</td>\n",
              "      <td>2</td>\n",
              "      <td>3</td>\n",
              "      <td>1</td>\n",
              "      <td>1</td>\n",
              "      <td>2</td>\n",
              "    </tr>\n",
              "    <tr>\n",
              "      <th>3</th>\n",
              "      <td>1016277</td>\n",
              "      <td>6</td>\n",
              "      <td>8</td>\n",
              "      <td>8</td>\n",
              "      <td>1</td>\n",
              "      <td>3</td>\n",
              "      <td>4</td>\n",
              "      <td>3</td>\n",
              "      <td>7</td>\n",
              "      <td>1</td>\n",
              "      <td>2</td>\n",
              "    </tr>\n",
              "    <tr>\n",
              "      <th>4</th>\n",
              "      <td>1017023</td>\n",
              "      <td>4</td>\n",
              "      <td>1</td>\n",
              "      <td>1</td>\n",
              "      <td>3</td>\n",
              "      <td>2</td>\n",
              "      <td>1</td>\n",
              "      <td>3</td>\n",
              "      <td>1</td>\n",
              "      <td>1</td>\n",
              "      <td>2</td>\n",
              "    </tr>\n",
              "    <tr>\n",
              "      <th>...</th>\n",
              "      <td>...</td>\n",
              "      <td>...</td>\n",
              "      <td>...</td>\n",
              "      <td>...</td>\n",
              "      <td>...</td>\n",
              "      <td>...</td>\n",
              "      <td>...</td>\n",
              "      <td>...</td>\n",
              "      <td>...</td>\n",
              "      <td>...</td>\n",
              "      <td>...</td>\n",
              "    </tr>\n",
              "    <tr>\n",
              "      <th>694</th>\n",
              "      <td>776715</td>\n",
              "      <td>3</td>\n",
              "      <td>1</td>\n",
              "      <td>1</td>\n",
              "      <td>1</td>\n",
              "      <td>3</td>\n",
              "      <td>2</td>\n",
              "      <td>1</td>\n",
              "      <td>1</td>\n",
              "      <td>1</td>\n",
              "      <td>2</td>\n",
              "    </tr>\n",
              "    <tr>\n",
              "      <th>695</th>\n",
              "      <td>841769</td>\n",
              "      <td>2</td>\n",
              "      <td>1</td>\n",
              "      <td>1</td>\n",
              "      <td>1</td>\n",
              "      <td>2</td>\n",
              "      <td>1</td>\n",
              "      <td>1</td>\n",
              "      <td>1</td>\n",
              "      <td>1</td>\n",
              "      <td>2</td>\n",
              "    </tr>\n",
              "    <tr>\n",
              "      <th>696</th>\n",
              "      <td>888820</td>\n",
              "      <td>5</td>\n",
              "      <td>10</td>\n",
              "      <td>10</td>\n",
              "      <td>3</td>\n",
              "      <td>7</td>\n",
              "      <td>3</td>\n",
              "      <td>8</td>\n",
              "      <td>10</td>\n",
              "      <td>2</td>\n",
              "      <td>4</td>\n",
              "    </tr>\n",
              "    <tr>\n",
              "      <th>697</th>\n",
              "      <td>897471</td>\n",
              "      <td>4</td>\n",
              "      <td>8</td>\n",
              "      <td>6</td>\n",
              "      <td>4</td>\n",
              "      <td>3</td>\n",
              "      <td>4</td>\n",
              "      <td>10</td>\n",
              "      <td>6</td>\n",
              "      <td>1</td>\n",
              "      <td>4</td>\n",
              "    </tr>\n",
              "    <tr>\n",
              "      <th>698</th>\n",
              "      <td>897471</td>\n",
              "      <td>4</td>\n",
              "      <td>8</td>\n",
              "      <td>8</td>\n",
              "      <td>5</td>\n",
              "      <td>4</td>\n",
              "      <td>5</td>\n",
              "      <td>10</td>\n",
              "      <td>4</td>\n",
              "      <td>1</td>\n",
              "      <td>4</td>\n",
              "    </tr>\n",
              "  </tbody>\n",
              "</table>\n",
              "<p>699 rows × 11 columns</p>\n",
              "</div>\n",
              "      <button class=\"colab-df-convert\" onclick=\"convertToInteractive('df-917e6753-0edb-491a-a250-0699f9fb9be6')\"\n",
              "              title=\"Convert this dataframe to an interactive table.\"\n",
              "              style=\"display:none;\">\n",
              "        \n",
              "  <svg xmlns=\"http://www.w3.org/2000/svg\" height=\"24px\"viewBox=\"0 0 24 24\"\n",
              "       width=\"24px\">\n",
              "    <path d=\"M0 0h24v24H0V0z\" fill=\"none\"/>\n",
              "    <path d=\"M18.56 5.44l.94 2.06.94-2.06 2.06-.94-2.06-.94-.94-2.06-.94 2.06-2.06.94zm-11 1L8.5 8.5l.94-2.06 2.06-.94-2.06-.94L8.5 2.5l-.94 2.06-2.06.94zm10 10l.94 2.06.94-2.06 2.06-.94-2.06-.94-.94-2.06-.94 2.06-2.06.94z\"/><path d=\"M17.41 7.96l-1.37-1.37c-.4-.4-.92-.59-1.43-.59-.52 0-1.04.2-1.43.59L10.3 9.45l-7.72 7.72c-.78.78-.78 2.05 0 2.83L4 21.41c.39.39.9.59 1.41.59.51 0 1.02-.2 1.41-.59l7.78-7.78 2.81-2.81c.8-.78.8-2.07 0-2.86zM5.41 20L4 18.59l7.72-7.72 1.47 1.35L5.41 20z\"/>\n",
              "  </svg>\n",
              "      </button>\n",
              "      \n",
              "  <style>\n",
              "    .colab-df-container {\n",
              "      display:flex;\n",
              "      flex-wrap:wrap;\n",
              "      gap: 12px;\n",
              "    }\n",
              "\n",
              "    .colab-df-convert {\n",
              "      background-color: #E8F0FE;\n",
              "      border: none;\n",
              "      border-radius: 50%;\n",
              "      cursor: pointer;\n",
              "      display: none;\n",
              "      fill: #1967D2;\n",
              "      height: 32px;\n",
              "      padding: 0 0 0 0;\n",
              "      width: 32px;\n",
              "    }\n",
              "\n",
              "    .colab-df-convert:hover {\n",
              "      background-color: #E2EBFA;\n",
              "      box-shadow: 0px 1px 2px rgba(60, 64, 67, 0.3), 0px 1px 3px 1px rgba(60, 64, 67, 0.15);\n",
              "      fill: #174EA6;\n",
              "    }\n",
              "\n",
              "    [theme=dark] .colab-df-convert {\n",
              "      background-color: #3B4455;\n",
              "      fill: #D2E3FC;\n",
              "    }\n",
              "\n",
              "    [theme=dark] .colab-df-convert:hover {\n",
              "      background-color: #434B5C;\n",
              "      box-shadow: 0px 1px 3px 1px rgba(0, 0, 0, 0.15);\n",
              "      filter: drop-shadow(0px 1px 2px rgba(0, 0, 0, 0.3));\n",
              "      fill: #FFFFFF;\n",
              "    }\n",
              "  </style>\n",
              "\n",
              "      <script>\n",
              "        const buttonEl =\n",
              "          document.querySelector('#df-917e6753-0edb-491a-a250-0699f9fb9be6 button.colab-df-convert');\n",
              "        buttonEl.style.display =\n",
              "          google.colab.kernel.accessAllowed ? 'block' : 'none';\n",
              "\n",
              "        async function convertToInteractive(key) {\n",
              "          const element = document.querySelector('#df-917e6753-0edb-491a-a250-0699f9fb9be6');\n",
              "          const dataTable =\n",
              "            await google.colab.kernel.invokeFunction('convertToInteractive',\n",
              "                                                     [key], {});\n",
              "          if (!dataTable) return;\n",
              "\n",
              "          const docLinkHtml = 'Like what you see? Visit the ' +\n",
              "            '<a target=\"_blank\" href=https://colab.research.google.com/notebooks/data_table.ipynb>data table notebook</a>'\n",
              "            + ' to learn more about interactive tables.';\n",
              "          element.innerHTML = '';\n",
              "          dataTable['output_type'] = 'display_data';\n",
              "          await google.colab.output.renderOutput(dataTable, element);\n",
              "          const docLink = document.createElement('div');\n",
              "          docLink.innerHTML = docLinkHtml;\n",
              "          element.appendChild(docLink);\n",
              "        }\n",
              "      </script>\n",
              "    </div>\n",
              "  </div>\n",
              "  "
            ]
          },
          "metadata": {},
          "execution_count": 2
        }
      ],
      "source": [
        "import pandas as pd \n",
        "df = pd.read_csv(\"/content/drive/MyDrive/Colab Notebooks/ML 101.1-20230219T101028Z-001 (3)/ML 101.1/data/Copia di breast-cancer-wisconsin (1).data\")\n",
        "df"
      ]
    },
    {
      "cell_type": "code",
      "source": [
        "indexNames = df[ df['Bare Nuclei'] == '?' ].index\n",
        "df.drop(indexNames , inplace=True)"
      ],
      "metadata": {
        "id": "psvAED_i9sFD"
      },
      "execution_count": null,
      "outputs": []
    },
    {
      "cell_type": "code",
      "source": [
        "df = df.drop('Sample code number', axis=1)\n",
        "df"
      ],
      "metadata": {
        "colab": {
          "base_uri": "https://localhost:8080/",
          "height": 424
        },
        "id": "4KND2HF99uQb",
        "outputId": "44270cdf-ae80-4a38-d424-4810b1ded16a"
      },
      "execution_count": null,
      "outputs": [
        {
          "output_type": "execute_result",
          "data": {
            "text/plain": [
              "     Clump Thickness  Uniformity of Cell Size  Uniformity of Cell Shape  \\\n",
              "0                  5                        1                         1   \n",
              "1                  5                        4                         4   \n",
              "2                  3                        1                         1   \n",
              "3                  6                        8                         8   \n",
              "4                  4                        1                         1   \n",
              "..               ...                      ...                       ...   \n",
              "694                3                        1                         1   \n",
              "695                2                        1                         1   \n",
              "696                5                       10                        10   \n",
              "697                4                        8                         6   \n",
              "698                4                        8                         8   \n",
              "\n",
              "     Marginal Adhesion  Single Epithelial Cell Size Bare Nuclei  \\\n",
              "0                    1                            2           1   \n",
              "1                    5                            7          10   \n",
              "2                    1                            2           2   \n",
              "3                    1                            3           4   \n",
              "4                    3                            2           1   \n",
              "..                 ...                          ...         ...   \n",
              "694                  1                            3           2   \n",
              "695                  1                            2           1   \n",
              "696                  3                            7           3   \n",
              "697                  4                            3           4   \n",
              "698                  5                            4           5   \n",
              "\n",
              "     Bland Chromatin  Normal Nucleoli  Mitoses  Class  \n",
              "0                  3                1        1      2  \n",
              "1                  3                2        1      2  \n",
              "2                  3                1        1      2  \n",
              "3                  3                7        1      2  \n",
              "4                  3                1        1      2  \n",
              "..               ...              ...      ...    ...  \n",
              "694                1                1        1      2  \n",
              "695                1                1        1      2  \n",
              "696                8               10        2      4  \n",
              "697               10                6        1      4  \n",
              "698               10                4        1      4  \n",
              "\n",
              "[683 rows x 10 columns]"
            ],
            "text/html": [
              "\n",
              "  <div id=\"df-597d0bfe-451e-43ef-87a1-718d889e71e5\">\n",
              "    <div class=\"colab-df-container\">\n",
              "      <div>\n",
              "<style scoped>\n",
              "    .dataframe tbody tr th:only-of-type {\n",
              "        vertical-align: middle;\n",
              "    }\n",
              "\n",
              "    .dataframe tbody tr th {\n",
              "        vertical-align: top;\n",
              "    }\n",
              "\n",
              "    .dataframe thead th {\n",
              "        text-align: right;\n",
              "    }\n",
              "</style>\n",
              "<table border=\"1\" class=\"dataframe\">\n",
              "  <thead>\n",
              "    <tr style=\"text-align: right;\">\n",
              "      <th></th>\n",
              "      <th>Clump Thickness</th>\n",
              "      <th>Uniformity of Cell Size</th>\n",
              "      <th>Uniformity of Cell Shape</th>\n",
              "      <th>Marginal Adhesion</th>\n",
              "      <th>Single Epithelial Cell Size</th>\n",
              "      <th>Bare Nuclei</th>\n",
              "      <th>Bland Chromatin</th>\n",
              "      <th>Normal Nucleoli</th>\n",
              "      <th>Mitoses</th>\n",
              "      <th>Class</th>\n",
              "    </tr>\n",
              "  </thead>\n",
              "  <tbody>\n",
              "    <tr>\n",
              "      <th>0</th>\n",
              "      <td>5</td>\n",
              "      <td>1</td>\n",
              "      <td>1</td>\n",
              "      <td>1</td>\n",
              "      <td>2</td>\n",
              "      <td>1</td>\n",
              "      <td>3</td>\n",
              "      <td>1</td>\n",
              "      <td>1</td>\n",
              "      <td>2</td>\n",
              "    </tr>\n",
              "    <tr>\n",
              "      <th>1</th>\n",
              "      <td>5</td>\n",
              "      <td>4</td>\n",
              "      <td>4</td>\n",
              "      <td>5</td>\n",
              "      <td>7</td>\n",
              "      <td>10</td>\n",
              "      <td>3</td>\n",
              "      <td>2</td>\n",
              "      <td>1</td>\n",
              "      <td>2</td>\n",
              "    </tr>\n",
              "    <tr>\n",
              "      <th>2</th>\n",
              "      <td>3</td>\n",
              "      <td>1</td>\n",
              "      <td>1</td>\n",
              "      <td>1</td>\n",
              "      <td>2</td>\n",
              "      <td>2</td>\n",
              "      <td>3</td>\n",
              "      <td>1</td>\n",
              "      <td>1</td>\n",
              "      <td>2</td>\n",
              "    </tr>\n",
              "    <tr>\n",
              "      <th>3</th>\n",
              "      <td>6</td>\n",
              "      <td>8</td>\n",
              "      <td>8</td>\n",
              "      <td>1</td>\n",
              "      <td>3</td>\n",
              "      <td>4</td>\n",
              "      <td>3</td>\n",
              "      <td>7</td>\n",
              "      <td>1</td>\n",
              "      <td>2</td>\n",
              "    </tr>\n",
              "    <tr>\n",
              "      <th>4</th>\n",
              "      <td>4</td>\n",
              "      <td>1</td>\n",
              "      <td>1</td>\n",
              "      <td>3</td>\n",
              "      <td>2</td>\n",
              "      <td>1</td>\n",
              "      <td>3</td>\n",
              "      <td>1</td>\n",
              "      <td>1</td>\n",
              "      <td>2</td>\n",
              "    </tr>\n",
              "    <tr>\n",
              "      <th>...</th>\n",
              "      <td>...</td>\n",
              "      <td>...</td>\n",
              "      <td>...</td>\n",
              "      <td>...</td>\n",
              "      <td>...</td>\n",
              "      <td>...</td>\n",
              "      <td>...</td>\n",
              "      <td>...</td>\n",
              "      <td>...</td>\n",
              "      <td>...</td>\n",
              "    </tr>\n",
              "    <tr>\n",
              "      <th>694</th>\n",
              "      <td>3</td>\n",
              "      <td>1</td>\n",
              "      <td>1</td>\n",
              "      <td>1</td>\n",
              "      <td>3</td>\n",
              "      <td>2</td>\n",
              "      <td>1</td>\n",
              "      <td>1</td>\n",
              "      <td>1</td>\n",
              "      <td>2</td>\n",
              "    </tr>\n",
              "    <tr>\n",
              "      <th>695</th>\n",
              "      <td>2</td>\n",
              "      <td>1</td>\n",
              "      <td>1</td>\n",
              "      <td>1</td>\n",
              "      <td>2</td>\n",
              "      <td>1</td>\n",
              "      <td>1</td>\n",
              "      <td>1</td>\n",
              "      <td>1</td>\n",
              "      <td>2</td>\n",
              "    </tr>\n",
              "    <tr>\n",
              "      <th>696</th>\n",
              "      <td>5</td>\n",
              "      <td>10</td>\n",
              "      <td>10</td>\n",
              "      <td>3</td>\n",
              "      <td>7</td>\n",
              "      <td>3</td>\n",
              "      <td>8</td>\n",
              "      <td>10</td>\n",
              "      <td>2</td>\n",
              "      <td>4</td>\n",
              "    </tr>\n",
              "    <tr>\n",
              "      <th>697</th>\n",
              "      <td>4</td>\n",
              "      <td>8</td>\n",
              "      <td>6</td>\n",
              "      <td>4</td>\n",
              "      <td>3</td>\n",
              "      <td>4</td>\n",
              "      <td>10</td>\n",
              "      <td>6</td>\n",
              "      <td>1</td>\n",
              "      <td>4</td>\n",
              "    </tr>\n",
              "    <tr>\n",
              "      <th>698</th>\n",
              "      <td>4</td>\n",
              "      <td>8</td>\n",
              "      <td>8</td>\n",
              "      <td>5</td>\n",
              "      <td>4</td>\n",
              "      <td>5</td>\n",
              "      <td>10</td>\n",
              "      <td>4</td>\n",
              "      <td>1</td>\n",
              "      <td>4</td>\n",
              "    </tr>\n",
              "  </tbody>\n",
              "</table>\n",
              "<p>683 rows × 10 columns</p>\n",
              "</div>\n",
              "      <button class=\"colab-df-convert\" onclick=\"convertToInteractive('df-597d0bfe-451e-43ef-87a1-718d889e71e5')\"\n",
              "              title=\"Convert this dataframe to an interactive table.\"\n",
              "              style=\"display:none;\">\n",
              "        \n",
              "  <svg xmlns=\"http://www.w3.org/2000/svg\" height=\"24px\"viewBox=\"0 0 24 24\"\n",
              "       width=\"24px\">\n",
              "    <path d=\"M0 0h24v24H0V0z\" fill=\"none\"/>\n",
              "    <path d=\"M18.56 5.44l.94 2.06.94-2.06 2.06-.94-2.06-.94-.94-2.06-.94 2.06-2.06.94zm-11 1L8.5 8.5l.94-2.06 2.06-.94-2.06-.94L8.5 2.5l-.94 2.06-2.06.94zm10 10l.94 2.06.94-2.06 2.06-.94-2.06-.94-.94-2.06-.94 2.06-2.06.94z\"/><path d=\"M17.41 7.96l-1.37-1.37c-.4-.4-.92-.59-1.43-.59-.52 0-1.04.2-1.43.59L10.3 9.45l-7.72 7.72c-.78.78-.78 2.05 0 2.83L4 21.41c.39.39.9.59 1.41.59.51 0 1.02-.2 1.41-.59l7.78-7.78 2.81-2.81c.8-.78.8-2.07 0-2.86zM5.41 20L4 18.59l7.72-7.72 1.47 1.35L5.41 20z\"/>\n",
              "  </svg>\n",
              "      </button>\n",
              "      \n",
              "  <style>\n",
              "    .colab-df-container {\n",
              "      display:flex;\n",
              "      flex-wrap:wrap;\n",
              "      gap: 12px;\n",
              "    }\n",
              "\n",
              "    .colab-df-convert {\n",
              "      background-color: #E8F0FE;\n",
              "      border: none;\n",
              "      border-radius: 50%;\n",
              "      cursor: pointer;\n",
              "      display: none;\n",
              "      fill: #1967D2;\n",
              "      height: 32px;\n",
              "      padding: 0 0 0 0;\n",
              "      width: 32px;\n",
              "    }\n",
              "\n",
              "    .colab-df-convert:hover {\n",
              "      background-color: #E2EBFA;\n",
              "      box-shadow: 0px 1px 2px rgba(60, 64, 67, 0.3), 0px 1px 3px 1px rgba(60, 64, 67, 0.15);\n",
              "      fill: #174EA6;\n",
              "    }\n",
              "\n",
              "    [theme=dark] .colab-df-convert {\n",
              "      background-color: #3B4455;\n",
              "      fill: #D2E3FC;\n",
              "    }\n",
              "\n",
              "    [theme=dark] .colab-df-convert:hover {\n",
              "      background-color: #434B5C;\n",
              "      box-shadow: 0px 1px 3px 1px rgba(0, 0, 0, 0.15);\n",
              "      filter: drop-shadow(0px 1px 2px rgba(0, 0, 0, 0.3));\n",
              "      fill: #FFFFFF;\n",
              "    }\n",
              "  </style>\n",
              "\n",
              "      <script>\n",
              "        const buttonEl =\n",
              "          document.querySelector('#df-597d0bfe-451e-43ef-87a1-718d889e71e5 button.colab-df-convert');\n",
              "        buttonEl.style.display =\n",
              "          google.colab.kernel.accessAllowed ? 'block' : 'none';\n",
              "\n",
              "        async function convertToInteractive(key) {\n",
              "          const element = document.querySelector('#df-597d0bfe-451e-43ef-87a1-718d889e71e5');\n",
              "          const dataTable =\n",
              "            await google.colab.kernel.invokeFunction('convertToInteractive',\n",
              "                                                     [key], {});\n",
              "          if (!dataTable) return;\n",
              "\n",
              "          const docLinkHtml = 'Like what you see? Visit the ' +\n",
              "            '<a target=\"_blank\" href=https://colab.research.google.com/notebooks/data_table.ipynb>data table notebook</a>'\n",
              "            + ' to learn more about interactive tables.';\n",
              "          element.innerHTML = '';\n",
              "          dataTable['output_type'] = 'display_data';\n",
              "          await google.colab.output.renderOutput(dataTable, element);\n",
              "          const docLink = document.createElement('div');\n",
              "          docLink.innerHTML = docLinkHtml;\n",
              "          element.appendChild(docLink);\n",
              "        }\n",
              "      </script>\n",
              "    </div>\n",
              "  </div>\n",
              "  "
            ]
          },
          "metadata": {},
          "execution_count": 4
        }
      ]
    },
    {
      "cell_type": "code",
      "source": [
        "df = df.astype(int)"
      ],
      "metadata": {
        "id": "jLuyWWk79x37"
      },
      "execution_count": null,
      "outputs": []
    },
    {
      "cell_type": "code",
      "source": [
        "%matplotlib inline\n",
        "import seaborn as sns\n",
        "import matplotlib.pyplot as plt\n",
        "\n",
        "\n",
        "sns.countplot(x=\"Class\", data=df)\n",
        "plt.title(\"type of cancer \")\n",
        "plt.xlabel(\"type of cancer \") #2 for benign, 4 for malignant)\n",
        "plt.ylabel(\"Counts\")\n",
        "plt.show()"
      ],
      "metadata": {
        "colab": {
          "base_uri": "https://localhost:8080/",
          "height": 295
        },
        "id": "AVUyxQB19zh7",
        "outputId": "6f162575-4f3c-4b98-f432-007e4d506106"
      },
      "execution_count": null,
      "outputs": [
        {
          "output_type": "display_data",
          "data": {
            "text/plain": [
              "<Figure size 432x288 with 1 Axes>"
            ],
            "image/png": "[encoded data removed]"
          },
          "metadata": {
            "needs_background": "light"
          }
        }
      ]
    },
    {
      "cell_type": "code",
      "source": [
        "import numpy as np\n",
        "df_np = df.to_numpy()\n",
        "x=df_np[:,:-1]\n",
        "y=df_np[:,-1]"
      ],
      "metadata": {
        "id": "xR4ceias93jL"
      },
      "execution_count": null,
      "outputs": []
    },
    {
      "cell_type": "code",
      "source": [
        "import collections\n",
        "collections.Counter(y)"
      ],
      "metadata": {
        "colab": {
          "base_uri": "https://localhost:8080/"
        },
        "id": "pJBO6rJ398IQ",
        "outputId": "19ceadb2-61bd-4c14-c9fc-fce001cedd53"
      },
      "execution_count": null,
      "outputs": [
        {
          "output_type": "execute_result",
          "data": {
            "text/plain": [
              "Counter({2: 444, 4: 239})"
            ]
          },
          "metadata": {},
          "execution_count": 8
        }
      ]
    },
    {
      "cell_type": "code",
      "source": [
        "#suddividiamo ora i dati in due dataset, uno per 'allenare' il metodo (training set) \n",
        "# e l'altro per testarne l'efficacia (test set). Facciamo in modo che il training set sia il 70% del totale\n",
        "\n",
        "from sklearn.model_selection import train_test_split # suddivide le osservazioni nei due insiemi\n",
        "\n",
        "X_train, X_test, y_train, y_test = train_test_split(x, y, \n",
        "                                                    test_size = 0.30, # by default is 75%-25%\n",
        "                                                    # shuffle is set True by default,\n",
        "                                                    stratify = y, # per mantenere le proporzioni che ci sono nei dati di partenza\n",
        "                                                    random_state = 123) # fix random seed for replicability"
      ],
      "metadata": {
        "id": "rqFkNilL-CFY"
      },
      "execution_count": null,
      "outputs": []
    },
    {
      "cell_type": "code",
      "source": [
        "np.set_printoptions(suppress=True)\n",
        "print(X_train[:10])\n",
        "print(f'y_train = {y_train[:10]}')"
      ],
      "metadata": {
        "colab": {
          "base_uri": "https://localhost:8080/"
        },
        "id": "c9yg4HlC-H5c",
        "outputId": "155aefd0-4eb0-4963-955d-1475ab385f4c"
      },
      "execution_count": null,
      "outputs": [
        {
          "output_type": "stream",
          "name": "stdout",
          "text": [
            "[[ 8 10 10  8  6  9  3 10 10]\n",
            " [ 3  2  2  1  2  1  2  3  1]\n",
            " [ 1  1  1  1  2  1  3  1  1]\n",
            " [ 1  1  1  1  1  1  1  1  1]\n",
            " [ 1  1  3  2  2  1  3  1  1]\n",
            " [ 3 10  7  8  5  8  7  4  1]\n",
            " [ 5 10 10 10 10  2 10 10 10]\n",
            " [ 1  1  1  3  2  1  1  1  1]\n",
            " [ 7  8  3  7  4  5  7  8  2]\n",
            " [ 7  4  5 10  2 10  3  8  2]]\n",
            "y_train = [4 2 2 2 2 4 4 2 4 4]\n"
          ]
        }
      ]
    },
    {
      "cell_type": "code",
      "source": [
        "# importiamo il metodo di classificazione K-NN\n",
        "from sklearn.neighbors import KNeighborsClassifier\n",
        "#inizializziamo il metodo con n_neighbors=5\n",
        "neigh = KNeighborsClassifier(n_neighbors=5)\n",
        "# \"alleniamo\" il metodo con i dati del training set\n",
        "neigh.fit(X_train, y_train)"
      ],
      "metadata": {
        "colab": {
          "base_uri": "https://localhost:8080/",
          "height": 75
        },
        "id": "9_ZN5Jea-SAU",
        "outputId": "4dd64000-e491-41fe-90cd-082ee358768b"
      },
      "execution_count": null,
      "outputs": [
        {
          "output_type": "execute_result",
          "data": {
            "text/plain": [
              "KNeighborsClassifier()"
            ],
            "text/html": [
              "<style>#sk-container-id-1 {color: black;background-color: white;}#sk-container-id-1 pre{padding: 0;}#sk-container-id-1 div.sk-toggleable {background-color: white;}#sk-container-id-1 label.sk-toggleable__label {cursor: pointer;display: block;width: 100%;margin-bottom: 0;padding: 0.3em;box-sizing: border-box;text-align: center;}#sk-container-id-1 label.sk-toggleable__label-arrow:before {content: \"▸\";float: left;margin-right: 0.25em;color: #696969;}#sk-container-id-1 label.sk-toggleable__label-arrow:hover:before {color: black;}#sk-container-id-1 div.sk-estimator:hover label.sk-toggleable__label-arrow:before {color: black;}#sk-container-id-1 div.sk-toggleable__content {max-height: 0;max-width: 0;overflow: hidden;text-align: left;background-color: #f0f8ff;}#sk-container-id-1 div.sk-toggleable__content pre {margin: 0.2em;color: black;border-radius: 0.25em;background-color: #f0f8ff;}#sk-container-id-1 input.sk-toggleable__control:checked~div.sk-toggleable__content {max-height: 200px;max-width: 100%;overflow: auto;}#sk-container-id-1 input.sk-toggleable__control:checked~label.sk-toggleable__label-arrow:before {content: \"▾\";}#sk-container-id-1 div.sk-estimator input.sk-toggleable__control:checked~label.sk-toggleable__label {background-color: #d4ebff;}#sk-container-id-1 div.sk-label input.sk-toggleable__control:checked~label.sk-toggleable__label {background-color: #d4ebff;}#sk-container-id-1 input.sk-hidden--visually {border: 0;clip: rect(1px 1px 1px 1px);clip: rect(1px, 1px, 1px, 1px);height: 1px;margin: -1px;overflow: hidden;padding: 0;position: absolute;width: 1px;}#sk-container-id-1 div.sk-estimator {font-family: monospace;background-color: #f0f8ff;border: 1px dotted black;border-radius: 0.25em;box-sizing: border-box;margin-bottom: 0.5em;}#sk-container-id-1 div.sk-estimator:hover {background-color: #d4ebff;}#sk-container-id-1 div.sk-parallel-item::after {content: \"\";width: 100%;border-bottom: 1px solid gray;flex-grow: 1;}#sk-container-id-1 div.sk-label:hover label.sk-toggleable__label {background-color: #d4ebff;}#sk-container-id-1 div.sk-serial::before {content: \"\";position: absolute;border-left: 1px solid gray;box-sizing: border-box;top: 0;bottom: 0;left: 50%;z-index: 0;}#sk-container-id-1 div.sk-serial {display: flex;flex-direction: column;align-items: center;background-color: white;padding-right: 0.2em;padding-left: 0.2em;position: relative;}#sk-container-id-1 div.sk-item {position: relative;z-index: 1;}#sk-container-id-1 div.sk-parallel {display: flex;align-items: stretch;justify-content: center;background-color: white;position: relative;}#sk-container-id-1 div.sk-item::before, #sk-container-id-1 div.sk-parallel-item::before {content: \"\";position: absolute;border-left: 1px solid gray;box-sizing: border-box;top: 0;bottom: 0;left: 50%;z-index: -1;}#sk-container-id-1 div.sk-parallel-item {display: flex;flex-direction: column;z-index: 1;position: relative;background-color: white;}#sk-container-id-1 div.sk-parallel-item:first-child::after {align-self: flex-end;width: 50%;}#sk-container-id-1 div.sk-parallel-item:last-child::after {align-self: flex-start;width: 50%;}#sk-container-id-1 div.sk-parallel-item:only-child::after {width: 0;}#sk-container-id-1 div.sk-dashed-wrapped {border: 1px dashed gray;margin: 0 0.4em 0.5em 0.4em;box-sizing: border-box;padding-bottom: 0.4em;background-color: white;}#sk-container-id-1 div.sk-label label {font-family: monospace;font-weight: bold;display: inline-block;line-height: 1.2em;}#sk-container-id-1 div.sk-label-container {text-align: center;}#sk-container-id-1 div.sk-container {/* jupyter's `normalize.less` sets `[hidden] { display: none; }` but bootstrap.min.css set `[hidden] { display: none !important; }` so we also need the `!important` here to be able to override the default hidden behavior on the sphinx rendered scikit-learn.org. See: https://github.com/scikit-learn/scikit-learn/issues/21755 */display: inline-block !important;position: relative;}#sk-container-id-1 div.sk-text-repr-fallback {display: none;}</style><div id=\"sk-container-id-1\" class=\"sk-top-container\"><div class=\"sk-text-repr-fallback\"><pre>KNeighborsClassifier()</pre><b>In a Jupyter environment, please rerun this cell to show the HTML representation or trust the notebook. <br />On GitHub, the HTML representation is unable to render, please try loading this page with nbviewer.org.</b></div><div class=\"sk-container\" hidden><div class=\"sk-item\"><div class=\"sk-estimator sk-toggleable\"><input class=\"sk-toggleable__control sk-hidden--visually\" id=\"sk-estimator-id-1\" type=\"checkbox\" checked><label for=\"sk-estimator-id-1\" class=\"sk-toggleable__label sk-toggleable__label-arrow\">KNeighborsClassifier</label><div class=\"sk-toggleable__content\"><pre>KNeighborsClassifier()</pre></div></div></div></div></div>"
            ]
          },
          "metadata": {},
          "execution_count": 11
        }
      ]
    },
    {
      "cell_type": "code",
      "source": [
        "# proviamo a fare una previsione sui dati del test set\n",
        "predict = neigh.predict(X_test)"
      ],
      "metadata": {
        "id": "pk1fwvqv_e0q"
      },
      "execution_count": null,
      "outputs": []
    },
    {
      "cell_type": "code",
      "source": [
        "print(f'dati predetti dal metodo =                {predict[:10]}') # dati predetti dal metodo\n",
        "print(f'dati reali presenti nel dataset di test = {y_test[:10]}') # dati effettivi presenti nel test set"
      ],
      "metadata": {
        "colab": {
          "base_uri": "https://localhost:8080/"
        },
        "id": "HZs7hT3E-SjD",
        "outputId": "fd2b6f7c-f135-4271-b45c-e6d70e07ac3c"
      },
      "execution_count": null,
      "outputs": [
        {
          "output_type": "stream",
          "name": "stdout",
          "text": [
            "dati predetti dal metodo =                [4 2 2 4 4 2 2 4 4 2]\n",
            "dati reali presenti nel dataset di test = [4 2 2 4 4 2 2 4 4 2]\n"
          ]
        }
      ]
    },
    {
      "cell_type": "code",
      "source": [
        "acc = []\n",
        "# Will take some time\n",
        "from sklearn import metrics\n",
        "for k in range(1,40):\n",
        "    neigh = KNeighborsClassifier(n_neighbors = k).fit(X_train,y_train)\n",
        "    yhat = neigh.predict(X_test)\n",
        "    acc.append(metrics.accuracy_score(y_test, yhat))\n",
        "    \n",
        "plt.figure(figsize=(10,6))\n",
        "plt.plot(range(1,40),acc,color = 'blue',linestyle='dashed', \n",
        "         marker='o',markerfacecolor='red', markersize=10)\n",
        "plt.title('accuracy vs. K Value')\n",
        "plt.xlabel('K')\n",
        "plt.ylabel('Accuracy')\n",
        "print(\"Maximum accuracy:-\",max(acc),\"at K =\",acc.index(max(acc)) + 1 )"
      ],
      "metadata": {
        "colab": {
          "base_uri": "https://localhost:8080/",
          "height": 421
        },
        "id": "D2Ly518T-WLn",
        "outputId": "c8b673c8-7489-441e-a046-64d4a7fb8b76"
      },
      "execution_count": null,
      "outputs": [
        {
          "output_type": "stream",
          "name": "stdout",
          "text": [
            "Maximum accuracy:- 0.975609756097561 at K = 5\n"
          ]
        },
        {
          "output_type": "display_data",
          "data": {
            "text/plain": [
              "<Figure size 720x432 with 1 Axes>"
            ],
            "image/png": "[encoded data removed]"
          },
          "metadata": {
            "needs_background": "light"
          }
        }
      ]
    },
    {
      "cell_type": "code",
      "source": [
        "# importiamo il metodo di classificazione K-NN\n",
        "from sklearn.neighbors import KNeighborsClassifier\n",
        "\n",
        "neigh = KNeighborsClassifier(n_neighbors=5)\n",
        "\n",
        "# \"alleniamo\" il metodo con i dati del training set\n",
        "neigh.fit(X_train, y_train)\n",
        "\n",
        "# proviamo a fare una previsione sui dati del test set\n",
        "predict_knn = neigh.predict(X_test)"
      ],
      "metadata": {
        "id": "wrb7CaS4-X23"
      },
      "execution_count": null,
      "outputs": []
    },
    {
      "cell_type": "code",
      "source": [
        "print(f'dati predetti dal metodo =                {predict_knn[:10]}')\n",
        "print(f'dati reali presenti nel dataset di test = {y_test[:10]}')"
      ],
      "metadata": {
        "colab": {
          "base_uri": "https://localhost:8080/"
        },
        "id": "zAYJzBrM-ZnP",
        "outputId": "65311ca0-e775-478d-db64-b1f81a72732e"
      },
      "execution_count": null,
      "outputs": [
        {
          "output_type": "stream",
          "name": "stdout",
          "text": [
            "dati predetti dal metodo =                [4 2 2 4 4 2 2 4 4 2]\n",
            "dati reali presenti nel dataset di test = [4 2 2 4 4 2 2 4 4 2]\n"
          ]
        }
      ]
    },
    {
      "cell_type": "code",
      "source": [
        "# valutiamo il nostro metodo:\n",
        "from mlxtend.plotting import plot_confusion_matrix\n",
        "from matplotlib import pyplot as plt\n",
        "from sklearn.metrics import confusion_matrix, classification_report\n",
        "# visualizziamo la confusion matrix\n",
        "plot_confusion_matrix(confusion_matrix(y_test, predict_knn), cmap=plt.cm.cool)\n",
        "plt.show()"
      ],
      "metadata": {
        "colab": {
          "base_uri": "https://localhost:8080/",
          "height": 279
        },
        "id": "rOCUCf_a-hKI",
        "outputId": "eb363460-0352-4395-a2e2-1bc363288403"
      },
      "execution_count": null,
      "outputs": [
        {
          "output_type": "display_data",
          "data": {
            "text/plain": [
              "<Figure size 432x288 with 1 Axes>"
            ],
            "image/png": "[encoded data removed]"
          },
          "metadata": {
            "needs_background": "light"
          }
        }
      ]
    },
    {
      "cell_type": "code",
      "source": [
        "# visualizziamo adesso gli indicatori\n",
        "print(classification_report(y_test, predict_knn))"
      ],
      "metadata": {
        "colab": {
          "base_uri": "https://localhost:8080/"
        },
        "id": "ILL1FihC-irg",
        "outputId": "7fa614ee-5197-44b5-d28c-32f75492e941"
      },
      "execution_count": null,
      "outputs": [
        {
          "output_type": "stream",
          "name": "stdout",
          "text": [
            "              precision    recall  f1-score   support\n",
            "\n",
            "           2       0.98      0.98      0.98       133\n",
            "           4       0.96      0.97      0.97        72\n",
            "\n",
            "    accuracy                           0.98       205\n",
            "   macro avg       0.97      0.97      0.97       205\n",
            "weighted avg       0.98      0.98      0.98       205\n",
            "\n"
          ]
        }
      ]
    },
    {
      "cell_type": "code",
      "source": [
        "daScoprire = [[10,10,10,10,5,10,10,10,7]] \n",
        "predict = neigh.predict(daScoprire)\n",
        "predict"
      ],
      "metadata": {
        "colab": {
          "base_uri": "https://localhost:8080/"
        },
        "id": "MLTlUv9f-j3n",
        "outputId": "a5cf1dce-00ed-422c-9b65-503510950d50"
      },
      "execution_count": null,
      "outputs": [
        {
          "output_type": "execute_result",
          "data": {
            "text/plain": [
              "array([4])"
            ]
          },
          "metadata": {},
          "execution_count": 19
        }
      ]
    },
    {
      "cell_type": "code",
      "source": [
        "from sklearn import tree\n",
        "acc = []\n",
        "# Will take some time\n",
        "from sklearn import metrics\n",
        "for i in range(1,40):\n",
        "  tree_clf = tree.DecisionTreeClassifier(criterion=\"gini\", # criteri per stabilire come splittare\n",
        "                                       max_depth=i, # profondità dell'albero per evitare l'overfitting\n",
        "                                       min_samples_split=30, # dimensione minima del sottogruppo a cui fermarsi (no more split)\n",
        "                                       max_leaf_nodes=6, # numero dei nodi foglia\n",
        "                                       min_samples_leaf=4 # numero di campioni per essere una foglia\n",
        "                                      )\n",
        "  # prima parte: dobbiamo fare in modo che il metodo impari dalle informazioni a disposizione\n",
        "  tree_clf.fit(X_train,y_train)\n",
        "\n",
        "  # seconda parte: vediamo se il metodo ha imparato bene facendogli prevedere i risultati \n",
        "  predict_dt = tree_clf.predict(X_test)\n",
        "  acc.append(metrics.accuracy_score(y_test, predict_dt))\n",
        "    \n",
        "plt.figure(figsize=(10,6))\n",
        "plt.plot(range(1,40),acc,color = 'blue',linestyle='dashed', \n",
        "         marker='o',markerfacecolor='red', markersize=10)\n",
        "plt.title('accuracy vs. K Value')\n",
        "plt.xlabel('K')\n",
        "plt.ylabel('Accuracy')\n",
        "print(\"Maximum accuracy:-\",max(acc),\"at K =\",acc.index(max(acc)) + 1 )"
      ],
      "metadata": {
        "colab": {
          "base_uri": "https://localhost:8080/",
          "height": 421
        },
        "id": "LF-SWJ-q-lb7",
        "outputId": "b21ce52d-56d7-4790-ccc7-f77e08a8d6d2"
      },
      "execution_count": null,
      "outputs": [
        {
          "output_type": "stream",
          "name": "stdout",
          "text": [
            "Maximum accuracy:- 0.9219512195121952 at K = 2\n"
          ]
        },
        {
          "output_type": "display_data",
          "data": {
            "text/plain": [
              "<Figure size 720x432 with 1 Axes>"
            ],
            "image/png": "[encoded data removed]"
          },
          "metadata": {
            "needs_background": "light"
          }
        }
      ]
    },
    {
      "cell_type": "code",
      "source": [
        "# impostiamo i parametri del metodo\n",
        "# https://scikit-learn.org/stable/modules/generated/sklearn.tree.DecisionTreeClassifier.html\n",
        "tree_clf = tree.DecisionTreeClassifier(criterion=\"gini\", # criteri per stabilire come splittare\n",
        "                                       max_depth=2, # profondità dell'albero per evitare l'overfitting\n",
        "                                       min_samples_split=30, # dimensione minima del sottogruppo a cui fermarsi (no more split)\n",
        "                                       max_leaf_nodes=6, # numero dei nodi foglia\n",
        "                                       min_samples_leaf=4 # numero di campioni per essere una foglia\n",
        "                                      )\n",
        "\n",
        "# prima parte: dobbiamo fare in modo che il metodo impari dalle informazioni a disposizione\n",
        "tree_clf.fit(X_train,y_train)\n",
        "\n",
        "# seconda parte: vediamo se il metodo ha imparato bene facendogli prevedere i risultati \n",
        "predict_dt = tree_clf.predict(X_test)\n",
        "\n",
        "# visualizziamo il risultato (solo i primi dieci pazienti)\n",
        "print(f'dati predetti dal metodo =                {predict_dt[:10]}') # dati predetti dal metodo\n",
        "print(f'dati reali presenti nel dataset di test = {y_test[:10]}') # dati effettivi presenti nel test set"
      ],
      "metadata": {
        "colab": {
          "base_uri": "https://localhost:8080/"
        },
        "id": "CnkNKega-nCT",
        "outputId": "a2b0166b-8fce-4316-ab09-2b202337bbe2"
      },
      "execution_count": null,
      "outputs": [
        {
          "output_type": "stream",
          "name": "stdout",
          "text": [
            "dati predetti dal metodo =                [2 4 2 4 4 2 2 4 4 2]\n",
            "dati reali presenti nel dataset di test = [4 2 2 4 4 2 2 4 4 2]\n"
          ]
        }
      ]
    },
    {
      "cell_type": "code",
      "source": [
        "#plots IMPORTS\n",
        "from mlxtend.plotting import plot_confusion_matrix\n",
        "from matplotlib import pyplot as plt\n",
        "from sklearn.metrics import confusion_matrix, classification_report\n",
        "\n",
        "plot_confusion_matrix(confusion_matrix(y_test, predict_dt), cmap=plt.cm.cool)\n",
        "plt.show() # DecisionTree"
      ],
      "metadata": {
        "colab": {
          "base_uri": "https://localhost:8080/",
          "height": 279
        },
        "id": "0o9EU1m5-otz",
        "outputId": "c800475c-40f5-4e4e-d4c2-14db9d59bb42"
      },
      "execution_count": null,
      "outputs": [
        {
          "output_type": "display_data",
          "data": {
            "text/plain": [
              "<Figure size 432x288 with 1 Axes>"
            ],
            "image/png": "[encoded data removed]"
          },
          "metadata": {
            "needs_background": "light"
          }
        }
      ]
    },
    {
      "cell_type": "code",
      "source": [
        "print(classification_report(y_test, predict_dt))"
      ],
      "metadata": {
        "colab": {
          "base_uri": "https://localhost:8080/"
        },
        "id": "5gHYyqZR-qWD",
        "outputId": "58d60be1-38a2-494a-bdd5-0dab7d02f911"
      },
      "execution_count": null,
      "outputs": [
        {
          "output_type": "stream",
          "name": "stdout",
          "text": [
            "              precision    recall  f1-score   support\n",
            "\n",
            "           2       0.95      0.93      0.94       133\n",
            "           4       0.88      0.90      0.89        72\n",
            "\n",
            "    accuracy                           0.92       205\n",
            "   macro avg       0.91      0.92      0.91       205\n",
            "weighted avg       0.92      0.92      0.92       205\n",
            "\n"
          ]
        }
      ]
    },
    {
      "cell_type": "code",
      "source": [
        "daScoprire = [[10,10,10,10,5,10,10,10,7]] \n",
        "predict = neigh.predict(daScoprire)\n",
        "predict"
      ],
      "metadata": {
        "colab": {
          "base_uri": "https://localhost:8080/"
        },
        "id": "1AJJmeUJ-s5j",
        "outputId": "6d342e58-d425-47b4-b648-11dc4bb95f87"
      },
      "execution_count": null,
      "outputs": [
        {
          "output_type": "execute_result",
          "data": {
            "text/plain": [
              "array([4])"
            ]
          },
          "metadata": {},
          "execution_count": 24
        }
      ]
    },
    {
      "cell_type": "markdown",
      "source": [
        "2.7 fare un confronto tra i due metodi e dire quale è il migliore a seconda delle richieste facendo un confronto tra le due confusion matrix e i classification report"
      ],
      "metadata": {
        "id": "vlKhm1yX-xHH"
      }
    },
    {
      "cell_type": "markdown",
      "source": [
        "il migliore è il k nn sia per capire i cancri maligni e quelli \"buoni\""
      ],
      "metadata": {
        "id": "VZqfu4g_-yYr"
      }
    },
    {
      "cell_type": "markdown",
      "source": [
        "2.8 i dati dell'esercizio 2.4 sono presenti nel dataset. Controllare a quale classe appartengono e verificare se i metodi hanno classificato correttamente. I dati appartenevano al training set o al test set?"
      ],
      "metadata": {
        "id": "xRvc0F3m-32x"
      }
    },
    {
      "cell_type": "code",
      "source": [
        "df"
      ],
      "metadata": {
        "colab": {
          "base_uri": "https://localhost:8080/",
          "height": 424
        },
        "id": "d7QRg6VGAIxh",
        "outputId": "8ea761a7-d70b-492e-f610-489d1398a83a"
      },
      "execution_count": null,
      "outputs": [
        {
          "output_type": "execute_result",
          "data": {
            "text/plain": [
              "     Clump Thickness  Uniformity of Cell Size  Uniformity of Cell Shape  \\\n",
              "0                  5                        1                         1   \n",
              "1                  5                        4                         4   \n",
              "2                  3                        1                         1   \n",
              "3                  6                        8                         8   \n",
              "4                  4                        1                         1   \n",
              "..               ...                      ...                       ...   \n",
              "694                3                        1                         1   \n",
              "695                2                        1                         1   \n",
              "696                5                       10                        10   \n",
              "697                4                        8                         6   \n",
              "698                4                        8                         8   \n",
              "\n",
              "     Marginal Adhesion  Single Epithelial Cell Size  Bare Nuclei  \\\n",
              "0                    1                            2            1   \n",
              "1                    5                            7           10   \n",
              "2                    1                            2            2   \n",
              "3                    1                            3            4   \n",
              "4                    3                            2            1   \n",
              "..                 ...                          ...          ...   \n",
              "694                  1                            3            2   \n",
              "695                  1                            2            1   \n",
              "696                  3                            7            3   \n",
              "697                  4                            3            4   \n",
              "698                  5                            4            5   \n",
              "\n",
              "     Bland Chromatin  Normal Nucleoli  Mitoses  Class  \n",
              "0                  3                1        1      2  \n",
              "1                  3                2        1      2  \n",
              "2                  3                1        1      2  \n",
              "3                  3                7        1      2  \n",
              "4                  3                1        1      2  \n",
              "..               ...              ...      ...    ...  \n",
              "694                1                1        1      2  \n",
              "695                1                1        1      2  \n",
              "696                8               10        2      4  \n",
              "697               10                6        1      4  \n",
              "698               10                4        1      4  \n",
              "\n",
              "[683 rows x 10 columns]"
            ],
            "text/html": [
              "\n",
              "  <div id=\"df-2d4ffef7-1314-4633-b852-c0610ea9a9c4\">\n",
              "    <div class=\"colab-df-container\">\n",
              "      <div>\n",
              "<style scoped>\n",
              "    .dataframe tbody tr th:only-of-type {\n",
              "        vertical-align: middle;\n",
              "    }\n",
              "\n",
              "    .dataframe tbody tr th {\n",
              "        vertical-align: top;\n",
              "    }\n",
              "\n",
              "    .dataframe thead th {\n",
              "        text-align: right;\n",
              "    }\n",
              "</style>\n",
              "<table border=\"1\" class=\"dataframe\">\n",
              "  <thead>\n",
              "    <tr style=\"text-align: right;\">\n",
              "      <th></th>\n",
              "      <th>Clump Thickness</th>\n",
              "      <th>Uniformity of Cell Size</th>\n",
              "      <th>Uniformity of Cell Shape</th>\n",
              "      <th>Marginal Adhesion</th>\n",
              "      <th>Single Epithelial Cell Size</th>\n",
              "      <th>Bare Nuclei</th>\n",
              "      <th>Bland Chromatin</th>\n",
              "      <th>Normal Nucleoli</th>\n",
              "      <th>Mitoses</th>\n",
              "      <th>Class</th>\n",
              "    </tr>\n",
              "  </thead>\n",
              "  <tbody>\n",
              "    <tr>\n",
              "      <th>0</th>\n",
              "      <td>5</td>\n",
              "      <td>1</td>\n",
              "      <td>1</td>\n",
              "      <td>1</td>\n",
              "      <td>2</td>\n",
              "      <td>1</td>\n",
              "      <td>3</td>\n",
              "      <td>1</td>\n",
              "      <td>1</td>\n",
              "      <td>2</td>\n",
              "    </tr>\n",
              "    <tr>\n",
              "      <th>1</th>\n",
              "      <td>5</td>\n",
              "      <td>4</td>\n",
              "      <td>4</td>\n",
              "      <td>5</td>\n",
              "      <td>7</td>\n",
              "      <td>10</td>\n",
              "      <td>3</td>\n",
              "      <td>2</td>\n",
              "      <td>1</td>\n",
              "      <td>2</td>\n",
              "    </tr>\n",
              "    <tr>\n",
              "      <th>2</th>\n",
              "      <td>3</td>\n",
              "      <td>1</td>\n",
              "      <td>1</td>\n",
              "      <td>1</td>\n",
              "      <td>2</td>\n",
              "      <td>2</td>\n",
              "      <td>3</td>\n",
              "      <td>1</td>\n",
              "      <td>1</td>\n",
              "      <td>2</td>\n",
              "    </tr>\n",
              "    <tr>\n",
              "      <th>3</th>\n",
              "      <td>6</td>\n",
              "      <td>8</td>\n",
              "      <td>8</td>\n",
              "      <td>1</td>\n",
              "      <td>3</td>\n",
              "      <td>4</td>\n",
              "      <td>3</td>\n",
              "      <td>7</td>\n",
              "      <td>1</td>\n",
              "      <td>2</td>\n",
              "    </tr>\n",
              "    <tr>\n",
              "      <th>4</th>\n",
              "      <td>4</td>\n",
              "      <td>1</td>\n",
              "      <td>1</td>\n",
              "      <td>3</td>\n",
              "      <td>2</td>\n",
              "      <td>1</td>\n",
              "      <td>3</td>\n",
              "      <td>1</td>\n",
              "      <td>1</td>\n",
              "      <td>2</td>\n",
              "    </tr>\n",
              "    <tr>\n",
              "      <th>...</th>\n",
              "      <td>...</td>\n",
              "      <td>...</td>\n",
              "      <td>...</td>\n",
              "      <td>...</td>\n",
              "      <td>...</td>\n",
              "      <td>...</td>\n",
              "      <td>...</td>\n",
              "      <td>...</td>\n",
              "      <td>...</td>\n",
              "      <td>...</td>\n",
              "    </tr>\n",
              "    <tr>\n",
              "      <th>694</th>\n",
              "      <td>3</td>\n",
              "      <td>1</td>\n",
              "      <td>1</td>\n",
              "      <td>1</td>\n",
              "      <td>3</td>\n",
              "      <td>2</td>\n",
              "      <td>1</td>\n",
              "      <td>1</td>\n",
              "      <td>1</td>\n",
              "      <td>2</td>\n",
              "    </tr>\n",
              "    <tr>\n",
              "      <th>695</th>\n",
              "      <td>2</td>\n",
              "      <td>1</td>\n",
              "      <td>1</td>\n",
              "      <td>1</td>\n",
              "      <td>2</td>\n",
              "      <td>1</td>\n",
              "      <td>1</td>\n",
              "      <td>1</td>\n",
              "      <td>1</td>\n",
              "      <td>2</td>\n",
              "    </tr>\n",
              "    <tr>\n",
              "      <th>696</th>\n",
              "      <td>5</td>\n",
              "      <td>10</td>\n",
              "      <td>10</td>\n",
              "      <td>3</td>\n",
              "      <td>7</td>\n",
              "      <td>3</td>\n",
              "      <td>8</td>\n",
              "      <td>10</td>\n",
              "      <td>2</td>\n",
              "      <td>4</td>\n",
              "    </tr>\n",
              "    <tr>\n",
              "      <th>697</th>\n",
              "      <td>4</td>\n",
              "      <td>8</td>\n",
              "      <td>6</td>\n",
              "      <td>4</td>\n",
              "      <td>3</td>\n",
              "      <td>4</td>\n",
              "      <td>10</td>\n",
              "      <td>6</td>\n",
              "      <td>1</td>\n",
              "      <td>4</td>\n",
              "    </tr>\n",
              "    <tr>\n",
              "      <th>698</th>\n",
              "      <td>4</td>\n",
              "      <td>8</td>\n",
              "      <td>8</td>\n",
              "      <td>5</td>\n",
              "      <td>4</td>\n",
              "      <td>5</td>\n",
              "      <td>10</td>\n",
              "      <td>4</td>\n",
              "      <td>1</td>\n",
              "      <td>4</td>\n",
              "    </tr>\n",
              "  </tbody>\n",
              "</table>\n",
              "<p>683 rows × 10 columns</p>\n",
              "</div>\n",
              "      <button class=\"colab-df-convert\" onclick=\"convertToInteractive('df-2d4ffef7-1314-4633-b852-c0610ea9a9c4')\"\n",
              "              title=\"Convert this dataframe to an interactive table.\"\n",
              "              style=\"display:none;\">\n",
              "        \n",
              "  <svg xmlns=\"http://www.w3.org/2000/svg\" height=\"24px\"viewBox=\"0 0 24 24\"\n",
              "       width=\"24px\">\n",
              "    <path d=\"M0 0h24v24H0V0z\" fill=\"none\"/>\n",
              "    <path d=\"M18.56 5.44l.94 2.06.94-2.06 2.06-.94-2.06-.94-.94-2.06-.94 2.06-2.06.94zm-11 1L8.5 8.5l.94-2.06 2.06-.94-2.06-.94L8.5 2.5l-.94 2.06-2.06.94zm10 10l.94 2.06.94-2.06 2.06-.94-2.06-.94-.94-2.06-.94 2.06-2.06.94z\"/><path d=\"M17.41 7.96l-1.37-1.37c-.4-.4-.92-.59-1.43-.59-.52 0-1.04.2-1.43.59L10.3 9.45l-7.72 7.72c-.78.78-.78 2.05 0 2.83L4 21.41c.39.39.9.59 1.41.59.51 0 1.02-.2 1.41-.59l7.78-7.78 2.81-2.81c.8-.78.8-2.07 0-2.86zM5.41 20L4 18.59l7.72-7.72 1.47 1.35L5.41 20z\"/>\n",
              "  </svg>\n",
              "      </button>\n",
              "      \n",
              "  <style>\n",
              "    .colab-df-container {\n",
              "      display:flex;\n",
              "      flex-wrap:wrap;\n",
              "      gap: 12px;\n",
              "    }\n",
              "\n",
              "    .colab-df-convert {\n",
              "      background-color: #E8F0FE;\n",
              "      border: none;\n",
              "      border-radius: 50%;\n",
              "      cursor: pointer;\n",
              "      display: none;\n",
              "      fill: #1967D2;\n",
              "      height: 32px;\n",
              "      padding: 0 0 0 0;\n",
              "      width: 32px;\n",
              "    }\n",
              "\n",
              "    .colab-df-convert:hover {\n",
              "      background-color: #E2EBFA;\n",
              "      box-shadow: 0px 1px 2px rgba(60, 64, 67, 0.3), 0px 1px 3px 1px rgba(60, 64, 67, 0.15);\n",
              "      fill: #174EA6;\n",
              "    }\n",
              "\n",
              "    [theme=dark] .colab-df-convert {\n",
              "      background-color: #3B4455;\n",
              "      fill: #D2E3FC;\n",
              "    }\n",
              "\n",
              "    [theme=dark] .colab-df-convert:hover {\n",
              "      background-color: #434B5C;\n",
              "      box-shadow: 0px 1px 3px 1px rgba(0, 0, 0, 0.15);\n",
              "      filter: drop-shadow(0px 1px 2px rgba(0, 0, 0, 0.3));\n",
              "      fill: #FFFFFF;\n",
              "    }\n",
              "  </style>\n",
              "\n",
              "      <script>\n",
              "        const buttonEl =\n",
              "          document.querySelector('#df-2d4ffef7-1314-4633-b852-c0610ea9a9c4 button.colab-df-convert');\n",
              "        buttonEl.style.display =\n",
              "          google.colab.kernel.accessAllowed ? 'block' : 'none';\n",
              "\n",
              "        async function convertToInteractive(key) {\n",
              "          const element = document.querySelector('#df-2d4ffef7-1314-4633-b852-c0610ea9a9c4');\n",
              "          const dataTable =\n",
              "            await google.colab.kernel.invokeFunction('convertToInteractive',\n",
              "                                                     [key], {});\n",
              "          if (!dataTable) return;\n",
              "\n",
              "          const docLinkHtml = 'Like what you see? Visit the ' +\n",
              "            '<a target=\"_blank\" href=https://colab.research.google.com/notebooks/data_table.ipynb>data table notebook</a>'\n",
              "            + ' to learn more about interactive tables.';\n",
              "          element.innerHTML = '';\n",
              "          dataTable['output_type'] = 'display_data';\n",
              "          await google.colab.output.renderOutput(dataTable, element);\n",
              "          const docLink = document.createElement('div');\n",
              "          docLink.innerHTML = docLinkHtml;\n",
              "          element.appendChild(docLink);\n",
              "        }\n",
              "      </script>\n",
              "    </div>\n",
              "  </div>\n",
              "  "
            ]
          },
          "metadata": {},
          "execution_count": 169
        }
      ]
    },
    {
      "cell_type": "code",
      "source": [
        "df[(df[\"Clump Thickness\"] == 10) & (df[\"Uniformity of Cell Size\"] == 10) & (df[\"Uniformity of Cell Shape\"] == 10) & (df[\"Marginal Adhesion\"] == 10) & (df[\"Single Epithelial Cell Size\"] == 5) & (df[\"Bare Nuclei\"] == 10) & (df[\"Bland Chromatin\"] == 10) & (df[\"Normal Nucleoli\"] == 10) & (df[\"Mitoses\"] == 7) ]"
      ],
      "metadata": {
        "colab": {
          "base_uri": "https://localhost:8080/",
          "height": 81
        },
        "id": "LkqWQMjh_kkj",
        "outputId": "9a65038d-3bdd-4e16-ff2a-824c704bc9e0"
      },
      "execution_count": null,
      "outputs": [
        {
          "output_type": "execute_result",
          "data": {
            "text/plain": [
              "     Clump Thickness  Uniformity of Cell Size  Uniformity of Cell Shape  \\\n",
              "680               10                       10                        10   \n",
              "\n",
              "     Marginal Adhesion  Single Epithelial Cell Size  Bare Nuclei  \\\n",
              "680                 10                            5           10   \n",
              "\n",
              "     Bland Chromatin  Normal Nucleoli  Mitoses  Class  \n",
              "680               10               10        7      4  "
            ],
            "text/html": [
              "\n",
              "  <div id=\"df-9e171244-bba0-4079-9440-86b6bf80b6ab\">\n",
              "    <div class=\"colab-df-container\">\n",
              "      <div>\n",
              "<style scoped>\n",
              "    .dataframe tbody tr th:only-of-type {\n",
              "        vertical-align: middle;\n",
              "    }\n",
              "\n",
              "    .dataframe tbody tr th {\n",
              "        vertical-align: top;\n",
              "    }\n",
              "\n",
              "    .dataframe thead th {\n",
              "        text-align: right;\n",
              "    }\n",
              "</style>\n",
              "<table border=\"1\" class=\"dataframe\">\n",
              "  <thead>\n",
              "    <tr style=\"text-align: right;\">\n",
              "      <th></th>\n",
              "      <th>Clump Thickness</th>\n",
              "      <th>Uniformity of Cell Size</th>\n",
              "      <th>Uniformity of Cell Shape</th>\n",
              "      <th>Marginal Adhesion</th>\n",
              "      <th>Single Epithelial Cell Size</th>\n",
              "      <th>Bare Nuclei</th>\n",
              "      <th>Bland Chromatin</th>\n",
              "      <th>Normal Nucleoli</th>\n",
              "      <th>Mitoses</th>\n",
              "      <th>Class</th>\n",
              "    </tr>\n",
              "  </thead>\n",
              "  <tbody>\n",
              "    <tr>\n",
              "      <th>680</th>\n",
              "      <td>10</td>\n",
              "      <td>10</td>\n",
              "      <td>10</td>\n",
              "      <td>10</td>\n",
              "      <td>5</td>\n",
              "      <td>10</td>\n",
              "      <td>10</td>\n",
              "      <td>10</td>\n",
              "      <td>7</td>\n",
              "      <td>4</td>\n",
              "    </tr>\n",
              "  </tbody>\n",
              "</table>\n",
              "</div>\n",
              "      <button class=\"colab-df-convert\" onclick=\"convertToInteractive('df-9e171244-bba0-4079-9440-86b6bf80b6ab')\"\n",
              "              title=\"Convert this dataframe to an interactive table.\"\n",
              "              style=\"display:none;\">\n",
              "        \n",
              "  <svg xmlns=\"http://www.w3.org/2000/svg\" height=\"24px\"viewBox=\"0 0 24 24\"\n",
              "       width=\"24px\">\n",
              "    <path d=\"M0 0h24v24H0V0z\" fill=\"none\"/>\n",
              "    <path d=\"M18.56 5.44l.94 2.06.94-2.06 2.06-.94-2.06-.94-.94-2.06-.94 2.06-2.06.94zm-11 1L8.5 8.5l.94-2.06 2.06-.94-2.06-.94L8.5 2.5l-.94 2.06-2.06.94zm10 10l.94 2.06.94-2.06 2.06-.94-2.06-.94-.94-2.06-.94 2.06-2.06.94z\"/><path d=\"M17.41 7.96l-1.37-1.37c-.4-.4-.92-.59-1.43-.59-.52 0-1.04.2-1.43.59L10.3 9.45l-7.72 7.72c-.78.78-.78 2.05 0 2.83L4 21.41c.39.39.9.59 1.41.59.51 0 1.02-.2 1.41-.59l7.78-7.78 2.81-2.81c.8-.78.8-2.07 0-2.86zM5.41 20L4 18.59l7.72-7.72 1.47 1.35L5.41 20z\"/>\n",
              "  </svg>\n",
              "      </button>\n",
              "      \n",
              "  <style>\n",
              "    .colab-df-container {\n",
              "      display:flex;\n",
              "      flex-wrap:wrap;\n",
              "      gap: 12px;\n",
              "    }\n",
              "\n",
              "    .colab-df-convert {\n",
              "      background-color: #E8F0FE;\n",
              "      border: none;\n",
              "      border-radius: 50%;\n",
              "      cursor: pointer;\n",
              "      display: none;\n",
              "      fill: #1967D2;\n",
              "      height: 32px;\n",
              "      padding: 0 0 0 0;\n",
              "      width: 32px;\n",
              "    }\n",
              "\n",
              "    .colab-df-convert:hover {\n",
              "      background-color: #E2EBFA;\n",
              "      box-shadow: 0px 1px 2px rgba(60, 64, 67, 0.3), 0px 1px 3px 1px rgba(60, 64, 67, 0.15);\n",
              "      fill: #174EA6;\n",
              "    }\n",
              "\n",
              "    [theme=dark] .colab-df-convert {\n",
              "      background-color: #3B4455;\n",
              "      fill: #D2E3FC;\n",
              "    }\n",
              "\n",
              "    [theme=dark] .colab-df-convert:hover {\n",
              "      background-color: #434B5C;\n",
              "      box-shadow: 0px 1px 3px 1px rgba(0, 0, 0, 0.15);\n",
              "      filter: drop-shadow(0px 1px 2px rgba(0, 0, 0, 0.3));\n",
              "      fill: #FFFFFF;\n",
              "    }\n",
              "  </style>\n",
              "\n",
              "      <script>\n",
              "        const buttonEl =\n",
              "          document.querySelector('#df-9e171244-bba0-4079-9440-86b6bf80b6ab button.colab-df-convert');\n",
              "        buttonEl.style.display =\n",
              "          google.colab.kernel.accessAllowed ? 'block' : 'none';\n",
              "\n",
              "        async function convertToInteractive(key) {\n",
              "          const element = document.querySelector('#df-9e171244-bba0-4079-9440-86b6bf80b6ab');\n",
              "          const dataTable =\n",
              "            await google.colab.kernel.invokeFunction('convertToInteractive',\n",
              "                                                     [key], {});\n",
              "          if (!dataTable) return;\n",
              "\n",
              "          const docLinkHtml = 'Like what you see? Visit the ' +\n",
              "            '<a target=\"_blank\" href=https://colab.research.google.com/notebooks/data_table.ipynb>data table notebook</a>'\n",
              "            + ' to learn more about interactive tables.';\n",
              "          element.innerHTML = '';\n",
              "          dataTable['output_type'] = 'display_data';\n",
              "          await google.colab.output.renderOutput(dataTable, element);\n",
              "          const docLink = document.createElement('div');\n",
              "          docLink.innerHTML = docLinkHtml;\n",
              "          element.appendChild(docLink);\n",
              "        }\n",
              "      </script>\n",
              "    </div>\n",
              "  </div>\n",
              "  "
            ]
          },
          "metadata": {},
          "execution_count": 170
        }
      ]
    },
    {
      "cell_type": "markdown",
      "source": [
        "li classifica giustamente entrambi"
      ],
      "metadata": {
        "id": "fuk0MKacBR_2"
      }
    },
    {
      "cell_type": "markdown",
      "source": [
        "#ESERCIZIO 2"
      ],
      "metadata": {
        "id": "zblUKduKGl3H"
      }
    },
    {
      "cell_type": "markdown",
      "source": [
        "## Pulizia Dati"
      ],
      "metadata": {
        "id": "Onq0W4OoCYM5"
      }
    },
    {
      "cell_type": "code",
      "source": [
        "import pandas as pd\n",
        "df = pd.read_csv(\"/content/drive/MyDrive/Colab Notebooks/ML 101.1-20230219T101028Z-001 (3)/ML 101.1/data/glass (1).data\", names = [\"ID\", \"RI\", \"Na\", \"Mg\", \"Al\", \"Si\", \"K\", \"Ca\", \"Ba\", \"Fe\", \"class\"])\n",
        "df"
      ],
      "metadata": {
        "id": "q48hq9VGGn6m",
        "colab": {
          "base_uri": "https://localhost:8080/",
          "height": 424
        },
        "outputId": "c7ddc531-fdd4-459f-f9be-9d20bf7ac3d1"
      },
      "execution_count": null,
      "outputs": [
        {
          "output_type": "execute_result",
          "data": {
            "text/plain": [
              "      ID       RI     Na    Mg    Al     Si     K    Ca    Ba   Fe  class\n",
              "0      1  1.52101  13.64  4.49  1.10  71.78  0.06  8.75  0.00  0.0      1\n",
              "1      2  1.51761  13.89  3.60  1.36  72.73  0.48  7.83  0.00  0.0      1\n",
              "2      3  1.51618  13.53  3.55  1.54  72.99  0.39  7.78  0.00  0.0      1\n",
              "3      4  1.51766  13.21  3.69  1.29  72.61  0.57  8.22  0.00  0.0      1\n",
              "4      5  1.51742  13.27  3.62  1.24  73.08  0.55  8.07  0.00  0.0      1\n",
              "..   ...      ...    ...   ...   ...    ...   ...   ...   ...  ...    ...\n",
              "209  210  1.51623  14.14  0.00  2.88  72.61  0.08  9.18  1.06  0.0      7\n",
              "210  211  1.51685  14.92  0.00  1.99  73.06  0.00  8.40  1.59  0.0      7\n",
              "211  212  1.52065  14.36  0.00  2.02  73.42  0.00  8.44  1.64  0.0      7\n",
              "212  213  1.51651  14.38  0.00  1.94  73.61  0.00  8.48  1.57  0.0      7\n",
              "213  214  1.51711  14.23  0.00  2.08  73.36  0.00  8.62  1.67  0.0      7\n",
              "\n",
              "[214 rows x 11 columns]"
            ],
            "text/html": [
              "\n",
              "  <div id=\"df-1aa032bc-1d80-4a5c-8ae6-a4a6ede07aa9\">\n",
              "    <div class=\"colab-df-container\">\n",
              "      <div>\n",
              "<style scoped>\n",
              "    .dataframe tbody tr th:only-of-type {\n",
              "        vertical-align: middle;\n",
              "    }\n",
              "\n",
              "    .dataframe tbody tr th {\n",
              "        vertical-align: top;\n",
              "    }\n",
              "\n",
              "    .dataframe thead th {\n",
              "        text-align: right;\n",
              "    }\n",
              "</style>\n",
              "<table border=\"1\" class=\"dataframe\">\n",
              "  <thead>\n",
              "    <tr style=\"text-align: right;\">\n",
              "      <th></th>\n",
              "      <th>ID</th>\n",
              "      <th>RI</th>\n",
              "      <th>Na</th>\n",
              "      <th>Mg</th>\n",
              "      <th>Al</th>\n",
              "      <th>Si</th>\n",
              "      <th>K</th>\n",
              "      <th>Ca</th>\n",
              "      <th>Ba</th>\n",
              "      <th>Fe</th>\n",
              "      <th>class</th>\n",
              "    </tr>\n",
              "  </thead>\n",
              "  <tbody>\n",
              "    <tr>\n",
              "      <th>0</th>\n",
              "      <td>1</td>\n",
              "      <td>1.52101</td>\n",
              "      <td>13.64</td>\n",
              "      <td>4.49</td>\n",
              "      <td>1.10</td>\n",
              "      <td>71.78</td>\n",
              "      <td>0.06</td>\n",
              "      <td>8.75</td>\n",
              "      <td>0.00</td>\n",
              "      <td>0.0</td>\n",
              "      <td>1</td>\n",
              "    </tr>\n",
              "    <tr>\n",
              "      <th>1</th>\n",
              "      <td>2</td>\n",
              "      <td>1.51761</td>\n",
              "      <td>13.89</td>\n",
              "      <td>3.60</td>\n",
              "      <td>1.36</td>\n",
              "      <td>72.73</td>\n",
              "      <td>0.48</td>\n",
              "      <td>7.83</td>\n",
              "      <td>0.00</td>\n",
              "      <td>0.0</td>\n",
              "      <td>1</td>\n",
              "    </tr>\n",
              "    <tr>\n",
              "      <th>2</th>\n",
              "      <td>3</td>\n",
              "      <td>1.51618</td>\n",
              "      <td>13.53</td>\n",
              "      <td>3.55</td>\n",
              "      <td>1.54</td>\n",
              "      <td>72.99</td>\n",
              "      <td>0.39</td>\n",
              "      <td>7.78</td>\n",
              "      <td>0.00</td>\n",
              "      <td>0.0</td>\n",
              "      <td>1</td>\n",
              "    </tr>\n",
              "    <tr>\n",
              "      <th>3</th>\n",
              "      <td>4</td>\n",
              "      <td>1.51766</td>\n",
              "      <td>13.21</td>\n",
              "      <td>3.69</td>\n",
              "      <td>1.29</td>\n",
              "      <td>72.61</td>\n",
              "      <td>0.57</td>\n",
              "      <td>8.22</td>\n",
              "      <td>0.00</td>\n",
              "      <td>0.0</td>\n",
              "      <td>1</td>\n",
              "    </tr>\n",
              "    <tr>\n",
              "      <th>4</th>\n",
              "      <td>5</td>\n",
              "      <td>1.51742</td>\n",
              "      <td>13.27</td>\n",
              "      <td>3.62</td>\n",
              "      <td>1.24</td>\n",
              "      <td>73.08</td>\n",
              "      <td>0.55</td>\n",
              "      <td>8.07</td>\n",
              "      <td>0.00</td>\n",
              "      <td>0.0</td>\n",
              "      <td>1</td>\n",
              "    </tr>\n",
              "    <tr>\n",
              "      <th>...</th>\n",
              "      <td>...</td>\n",
              "      <td>...</td>\n",
              "      <td>...</td>\n",
              "      <td>...</td>\n",
              "      <td>...</td>\n",
              "      <td>...</td>\n",
              "      <td>...</td>\n",
              "      <td>...</td>\n",
              "      <td>...</td>\n",
              "      <td>...</td>\n",
              "      <td>...</td>\n",
              "    </tr>\n",
              "    <tr>\n",
              "      <th>209</th>\n",
              "      <td>210</td>\n",
              "      <td>1.51623</td>\n",
              "      <td>14.14</td>\n",
              "      <td>0.00</td>\n",
              "      <td>2.88</td>\n",
              "      <td>72.61</td>\n",
              "      <td>0.08</td>\n",
              "      <td>9.18</td>\n",
              "      <td>1.06</td>\n",
              "      <td>0.0</td>\n",
              "      <td>7</td>\n",
              "    </tr>\n",
              "    <tr>\n",
              "      <th>210</th>\n",
              "      <td>211</td>\n",
              "      <td>1.51685</td>\n",
              "      <td>14.92</td>\n",
              "      <td>0.00</td>\n",
              "      <td>1.99</td>\n",
              "      <td>73.06</td>\n",
              "      <td>0.00</td>\n",
              "      <td>8.40</td>\n",
              "      <td>1.59</td>\n",
              "      <td>0.0</td>\n",
              "      <td>7</td>\n",
              "    </tr>\n",
              "    <tr>\n",
              "      <th>211</th>\n",
              "      <td>212</td>\n",
              "      <td>1.52065</td>\n",
              "      <td>14.36</td>\n",
              "      <td>0.00</td>\n",
              "      <td>2.02</td>\n",
              "      <td>73.42</td>\n",
              "      <td>0.00</td>\n",
              "      <td>8.44</td>\n",
              "      <td>1.64</td>\n",
              "      <td>0.0</td>\n",
              "      <td>7</td>\n",
              "    </tr>\n",
              "    <tr>\n",
              "      <th>212</th>\n",
              "      <td>213</td>\n",
              "      <td>1.51651</td>\n",
              "      <td>14.38</td>\n",
              "      <td>0.00</td>\n",
              "      <td>1.94</td>\n",
              "      <td>73.61</td>\n",
              "      <td>0.00</td>\n",
              "      <td>8.48</td>\n",
              "      <td>1.57</td>\n",
              "      <td>0.0</td>\n",
              "      <td>7</td>\n",
              "    </tr>\n",
              "    <tr>\n",
              "      <th>213</th>\n",
              "      <td>214</td>\n",
              "      <td>1.51711</td>\n",
              "      <td>14.23</td>\n",
              "      <td>0.00</td>\n",
              "      <td>2.08</td>\n",
              "      <td>73.36</td>\n",
              "      <td>0.00</td>\n",
              "      <td>8.62</td>\n",
              "      <td>1.67</td>\n",
              "      <td>0.0</td>\n",
              "      <td>7</td>\n",
              "    </tr>\n",
              "  </tbody>\n",
              "</table>\n",
              "<p>214 rows × 11 columns</p>\n",
              "</div>\n",
              "      <button class=\"colab-df-convert\" onclick=\"convertToInteractive('df-1aa032bc-1d80-4a5c-8ae6-a4a6ede07aa9')\"\n",
              "              title=\"Convert this dataframe to an interactive table.\"\n",
              "              style=\"display:none;\">\n",
              "        \n",
              "  <svg xmlns=\"http://www.w3.org/2000/svg\" height=\"24px\"viewBox=\"0 0 24 24\"\n",
              "       width=\"24px\">\n",
              "    <path d=\"M0 0h24v24H0V0z\" fill=\"none\"/>\n",
              "    <path d=\"M18.56 5.44l.94 2.06.94-2.06 2.06-.94-2.06-.94-.94-2.06-.94 2.06-2.06.94zm-11 1L8.5 8.5l.94-2.06 2.06-.94-2.06-.94L8.5 2.5l-.94 2.06-2.06.94zm10 10l.94 2.06.94-2.06 2.06-.94-2.06-.94-.94-2.06-.94 2.06-2.06.94z\"/><path d=\"M17.41 7.96l-1.37-1.37c-.4-.4-.92-.59-1.43-.59-.52 0-1.04.2-1.43.59L10.3 9.45l-7.72 7.72c-.78.78-.78 2.05 0 2.83L4 21.41c.39.39.9.59 1.41.59.51 0 1.02-.2 1.41-.59l7.78-7.78 2.81-2.81c.8-.78.8-2.07 0-2.86zM5.41 20L4 18.59l7.72-7.72 1.47 1.35L5.41 20z\"/>\n",
              "  </svg>\n",
              "      </button>\n",
              "      \n",
              "  <style>\n",
              "    .colab-df-container {\n",
              "      display:flex;\n",
              "      flex-wrap:wrap;\n",
              "      gap: 12px;\n",
              "    }\n",
              "\n",
              "    .colab-df-convert {\n",
              "      background-color: #E8F0FE;\n",
              "      border: none;\n",
              "      border-radius: 50%;\n",
              "      cursor: pointer;\n",
              "      display: none;\n",
              "      fill: #1967D2;\n",
              "      height: 32px;\n",
              "      padding: 0 0 0 0;\n",
              "      width: 32px;\n",
              "    }\n",
              "\n",
              "    .colab-df-convert:hover {\n",
              "      background-color: #E2EBFA;\n",
              "      box-shadow: 0px 1px 2px rgba(60, 64, 67, 0.3), 0px 1px 3px 1px rgba(60, 64, 67, 0.15);\n",
              "      fill: #174EA6;\n",
              "    }\n",
              "\n",
              "    [theme=dark] .colab-df-convert {\n",
              "      background-color: #3B4455;\n",
              "      fill: #D2E3FC;\n",
              "    }\n",
              "\n",
              "    [theme=dark] .colab-df-convert:hover {\n",
              "      background-color: #434B5C;\n",
              "      box-shadow: 0px 1px 3px 1px rgba(0, 0, 0, 0.15);\n",
              "      filter: drop-shadow(0px 1px 2px rgba(0, 0, 0, 0.3));\n",
              "      fill: #FFFFFF;\n",
              "    }\n",
              "  </style>\n",
              "\n",
              "      <script>\n",
              "        const buttonEl =\n",
              "          document.querySelector('#df-1aa032bc-1d80-4a5c-8ae6-a4a6ede07aa9 button.colab-df-convert');\n",
              "        buttonEl.style.display =\n",
              "          google.colab.kernel.accessAllowed ? 'block' : 'none';\n",
              "\n",
              "        async function convertToInteractive(key) {\n",
              "          const element = document.querySelector('#df-1aa032bc-1d80-4a5c-8ae6-a4a6ede07aa9');\n",
              "          const dataTable =\n",
              "            await google.colab.kernel.invokeFunction('convertToInteractive',\n",
              "                                                     [key], {});\n",
              "          if (!dataTable) return;\n",
              "\n",
              "          const docLinkHtml = 'Like what you see? Visit the ' +\n",
              "            '<a target=\"_blank\" href=https://colab.research.google.com/notebooks/data_table.ipynb>data table notebook</a>'\n",
              "            + ' to learn more about interactive tables.';\n",
              "          element.innerHTML = '';\n",
              "          dataTable['output_type'] = 'display_data';\n",
              "          await google.colab.output.renderOutput(dataTable, element);\n",
              "          const docLink = document.createElement('div');\n",
              "          docLink.innerHTML = docLinkHtml;\n",
              "          element.appendChild(docLink);\n",
              "        }\n",
              "      </script>\n",
              "    </div>\n",
              "  </div>\n",
              "  "
            ]
          },
          "metadata": {},
          "execution_count": 25
        }
      ]
    },
    {
      "cell_type": "code",
      "source": [
        "df = df.drop([\"ID\"], axis = 1)\n",
        "df = df.astype(float)\n",
        "df"
      ],
      "metadata": {
        "id": "_y4cwRNfCUty"
      },
      "execution_count": null,
      "outputs": []
    },
    {
      "cell_type": "markdown",
      "source": [
        "## KNN"
      ],
      "metadata": {
        "id": "YCByqbxWCbKz"
      }
    },
    {
      "cell_type": "code",
      "source": [
        "import numpy as np\n",
        "dfnp = df.to_numpy()\n",
        "x=dfnp[:,:-1] #variabili indipendenti\n",
        "y=dfnp[:,-1] #variabile dipendente\n",
        "\n",
        "#Print class frequencies through collections counter\n",
        "import collections\n",
        "collections.Counter(y)"
      ],
      "metadata": {
        "id": "Bi9tLrRxCcEx"
      },
      "execution_count": null,
      "outputs": []
    },
    {
      "cell_type": "code",
      "source": [
        "from sklearn.model_selection import train_test_split\n",
        "\n",
        "X_train, X_test, y_train, y_test = train_test_split(x, y, \n",
        "                                                    test_size = 0.30, # by default is 75%-25%\n",
        "                                                    # shuffle is set True by default,\n",
        "                                                    stratify = y, # per mantenere le proporzioni che ci sono nei dati di partenza\n",
        "                                                    random_state = 123) # fix random seed for replicability\n",
        "\n",
        "print(X_train[:10])\n",
        "print(f'y_train = {y_train[:10]}')"
      ],
      "metadata": {
        "id": "FMLFuVP9CeZX"
      },
      "execution_count": null,
      "outputs": []
    },
    {
      "cell_type": "code",
      "source": [
        "from sklearn.neighbors import KNeighborsClassifier\n",
        "\n",
        "from mlxtend.plotting import plot_confusion_matrix\n",
        "from matplotlib import pyplot as plt\n",
        "from sklearn.metrics import confusion_matrix, classification_report\n",
        "\n",
        "#modo per individuare la miglior K\n",
        "acc = []\n",
        "from sklearn import metrics\n",
        "for k in range(1,50):\n",
        "  neigh = KNeighborsClassifier(n_neighbors = k).fit(X_train, y_train)\n",
        "  predict = neigh.predict(X_test)\n",
        "  acc.append(metrics.accuracy_score(y_test, predict))\n",
        "\n",
        "plt.figure(figsize=(10,6))\n",
        "plt.plot(range(1,50),acc,color = 'blue',linestyle='dashed', \n",
        "         marker='o',markerfacecolor='red', markersize=10)\n",
        "plt.title('Miglior Valore K')\n",
        "plt.xlabel('K')\n",
        "plt.ylabel('Accuracy')\n",
        "print(\"Maximum accuracy: \",max(acc),\"at K =\",acc.index(max(acc)) + 1 )"
      ],
      "metadata": {
        "id": "td65RkKjCf6K"
      },
      "execution_count": null,
      "outputs": []
    },
    {
      "cell_type": "code",
      "source": [
        "# inizializziamo il metodo con il valore 3, poiché è risultato essere il migliore\n",
        "neigh = KNeighborsClassifier(n_neighbors=3)\n",
        "\n",
        "# \"alleniamo\" il metodo con i dati del training set\n",
        "neigh.fit(X_train, y_train)\n",
        "\n",
        "# proviamo a fare una previsione sui dati del test set\n",
        "predict = neigh.predict(X_test)\n",
        "\n",
        "# e visualizziamo il risultato (solo i primi dieci vini)\n",
        "print(f'dati predetti dal metodo =                {predict[:10]}') # dati predetti dal metodo\n",
        "print(f'dati reali presenti nel dataset di test = {y_test[:10]}') # dati effettivi presenti nel test set"
      ],
      "metadata": {
        "id": "zCaiz_zxChpf"
      },
      "execution_count": null,
      "outputs": []
    },
    {
      "cell_type": "code",
      "source": [
        "# visualizziamo la confusion matrix\n",
        "\n",
        "plot_confusion_matrix(confusion_matrix(y_test, predict), cmap = plt.cm.Dark2)\n",
        "plt.show()"
      ],
      "metadata": {
        "id": "2FGPm389CjCn"
      },
      "execution_count": null,
      "outputs": []
    },
    {
      "cell_type": "code",
      "source": [
        "# visualizziamo adesso gli indicatori\n",
        "print(classification_report(y_test, predict))"
      ],
      "metadata": {
        "id": "JlOLP0MBCkcf"
      },
      "execution_count": null,
      "outputs": []
    },
    {
      "cell_type": "markdown",
      "source": [
        "2.4 utilizzare il metodo per ipotizzare la classe di appartenenze dell'oggetto che ha queste caratteristiche:"
      ],
      "metadata": {
        "id": "2TK46iZ0CoCi"
      }
    },
    {
      "cell_type": "code",
      "source": [
        "from tabulate import tabulate\n",
        "\n",
        "info = ['RI', 'Na', 'Mg', 'Al', 'Si', 'K', 'Ca', 'Ba', 'Fe']\n",
        "daScoprire = [1.51115, 17.38, 0.00, 0.34, 75.41, 0.00, 6.65, 0.00, 0.00] \n",
        "print(tabulate([daScoprire], headers=info))"
      ],
      "metadata": {
        "id": "_u6ZX5_CCoZ2"
      },
      "execution_count": null,
      "outputs": []
    },
    {
      "cell_type": "code",
      "source": [
        "daScoprire = [[1.51115, 17.38, 0.00, 0.34, 75.41, 0.00, 6.65, 0.00, 0.00]]\n",
        "predictdaScoprire = neigh.predict(daScoprire)\n",
        "predictdaScoprire"
      ],
      "metadata": {
        "id": "HoFxH7zFCrpK"
      },
      "execution_count": null,
      "outputs": []
    },
    {
      "cell_type": "markdown",
      "source": [
        "## Decision Tree"
      ],
      "metadata": {
        "id": "TRR3ctuIDQ2v"
      }
    },
    {
      "cell_type": "markdown",
      "source": [
        "2.5 provare a utilizzare l'algoritmo decision tree con diversi valori dei parametri del metodo per classificare i dati. Inserire nel notebook le varie prove effettuate spiegando quali sono i valori dei parametri che meglio descrivono il fenomeno e perché"
      ],
      "metadata": {
        "id": "yAKxjQgWDbwF"
      }
    },
    {
      "cell_type": "markdown",
      "source": [
        "### Prova 1"
      ],
      "metadata": {
        "id": "YMyOEgvrDfhl"
      }
    },
    {
      "cell_type": "code",
      "source": [
        "from sklearn import tree\n",
        "\n",
        "# impostiamo i parametri del metodo\n",
        "tree_clf = tree.DecisionTreeClassifier(criterion=\"gini\", # criteri per stabilire come splittare\n",
        "                                       max_depth=4, # profondità dell'albero per evitare l'overfitting\n",
        "                                       min_samples_split=30, # dimensione minima del sottogruppo a cui fermarsi (no more split)\n",
        "                                       max_leaf_nodes=6, # numero dei nodi foglia\n",
        "                                       min_samples_leaf=4 # numero di campioni per essere una foglia\n",
        "                                      )\n",
        "\n",
        "# prima parte: dobbiamo fare in modo che il metodo impari dalle informazioni a disposizione\n",
        "tree_clf.fit(X_train,y_train)\n",
        "\n",
        "# seconda parte: vediamo se il metodo ha imparato bene facendogli prevedere i risultati \n",
        "predict_dt1 = tree_clf.predict(X_test)\n",
        "\n",
        "# visualizziamo il risultato (solo i primi dieci pazienti)\n",
        "print(f'dati predetti dal metodo =                {predict_dt1[:10]}') # dati predetti dal metodo\n",
        "print(f'dati reali presenti nel dataset di test = {y_test[:10]}') # dati effettivi presenti nel test set"
      ],
      "metadata": {
        "id": "DhsBobDXDTSJ"
      },
      "execution_count": null,
      "outputs": []
    },
    {
      "cell_type": "code",
      "source": [
        "#plots IMPORTS\n",
        "from mlxtend.plotting import plot_confusion_matrix\n",
        "from matplotlib import pyplot as plt\n",
        "from sklearn.metrics import confusion_matrix, classification_report\n",
        "\n",
        "plot_confusion_matrix(confusion_matrix(y_test, predict_dt1), cmap = plt.cm.Dark2)\n",
        "plt.show()"
      ],
      "metadata": {
        "id": "AMoa-r5mDjtx"
      },
      "execution_count": null,
      "outputs": []
    },
    {
      "cell_type": "code",
      "source": [
        "print(classification_report(y_test, predict_dt1))"
      ],
      "metadata": {
        "id": "1m9f5_uCDlJc"
      },
      "execution_count": null,
      "outputs": []
    },
    {
      "cell_type": "markdown",
      "source": [
        "### Prova 2"
      ],
      "metadata": {
        "id": "Mt45Y2xRDnxr"
      }
    },
    {
      "cell_type": "code",
      "source": [
        "from sklearn import tree\n",
        "\n",
        "# impostiamo i parametri del metodo\n",
        "tree_clf = tree.DecisionTreeClassifier(criterion=\"gini\", # criteri per stabilire come splittare\n",
        "                                       max_depth=6, # profondità dell'albero per evitare l'overfitting\n",
        "                                       min_samples_split=30, # dimensione minima del sottogruppo a cui fermarsi (no more split)\n",
        "                                       max_leaf_nodes=8, # numero dei nodi foglia\n",
        "                                       min_samples_leaf=4 # numero di campioni per essere una foglia\n",
        "                                      )\n",
        "\n",
        "# prima parte: dobbiamo fare in modo che il metodo impari dalle informazioni a disposizione\n",
        "tree_clf.fit(X_train,y_train)\n",
        "\n",
        "# seconda parte: vediamo se il metodo ha imparato bene facendogli prevedere i risultati \n",
        "predict_dt2 = tree_clf.predict(X_test)\n",
        "\n",
        "# visualizziamo il risultato (solo i primi dieci pazienti)\n",
        "print(f'dati predetti dal metodo =                {predict_dt2[:10]}') # dati predetti dal metodo\n",
        "print(f'dati reali presenti nel dataset di test = {y_test[:10]}') # dati effettivi presenti nel test set"
      ],
      "metadata": {
        "id": "yPZzSXwJDpEx"
      },
      "execution_count": null,
      "outputs": []
    },
    {
      "cell_type": "code",
      "source": [
        "#plots IMPORTS\n",
        "from mlxtend.plotting import plot_confusion_matrix\n",
        "from matplotlib import pyplot as plt\n",
        "from sklearn.metrics import confusion_matrix, classification_report\n",
        "\n",
        "plot_confusion_matrix(confusion_matrix(y_test, predict_dt2), cmap = plt.cm.Dark2)\n",
        "plt.show()"
      ],
      "metadata": {
        "id": "zOm2FaldDqw8"
      },
      "execution_count": null,
      "outputs": []
    },
    {
      "cell_type": "code",
      "source": [
        "print(classification_report(y_test, predict_dt2))"
      ],
      "metadata": {
        "id": "DyUzfjLCDsAv"
      },
      "execution_count": null,
      "outputs": []
    },
    {
      "cell_type": "markdown",
      "source": [
        "### Prova 3"
      ],
      "metadata": {
        "id": "eovJGRhjDuQF"
      }
    },
    {
      "cell_type": "code",
      "source": [
        "from sklearn import tree\n",
        "\n",
        "# impostiamo i parametri del metodo\n",
        "tree_clf = tree.DecisionTreeClassifier(criterion=\"gini\", # criteri per stabilire come splittare\n",
        "                                       max_depth=8, # profondità dell'albero per evitare l'overfitting\n",
        "                                       min_samples_split=28, # dimensione minima del sottogruppo a cui fermarsi (no more split)\n",
        "                                       max_leaf_nodes=10, # numero dei nodi foglia\n",
        "                                       min_samples_leaf=5 # numero di campioni per essere una foglia\n",
        "                                      )\n",
        "\n",
        "# prima parte: dobbiamo fare in modo che il metodo impari dalle informazioni a disposizione\n",
        "tree_clf.fit(X_train,y_train)\n",
        "\n",
        "# seconda parte: vediamo se il metodo ha imparato bene facendogli prevedere i risultati \n",
        "predict_dt3 = tree_clf.predict(X_test)\n",
        "\n",
        "# visualizziamo il risultato (solo i primi dieci pazienti)\n",
        "print(f'dati predetti dal metodo =                {predict_dt3[:10]}') # dati predetti dal metodo\n",
        "print(f'dati reali presenti nel dataset di test = {y_test[:10]}') # dati effettivi presenti nel test set"
      ],
      "metadata": {
        "id": "3Sw8AFmwDvsk"
      },
      "execution_count": null,
      "outputs": []
    },
    {
      "cell_type": "code",
      "source": [
        "#plots IMPORTS\n",
        "from mlxtend.plotting import plot_confusion_matrix\n",
        "from matplotlib import pyplot as plt\n",
        "from sklearn.metrics import confusion_matrix, classification_report\n",
        "\n",
        "plot_confusion_matrix(confusion_matrix(y_test, predict_dt3), cmap = plt.cm.Dark2)\n",
        "plt.show()"
      ],
      "metadata": {
        "id": "kvV4UIyFDxE2"
      },
      "execution_count": null,
      "outputs": []
    },
    {
      "cell_type": "code",
      "source": [
        "print(classification_report(y_test, predict_dt3))"
      ],
      "metadata": {
        "id": "JhhAB9m9DykM"
      },
      "execution_count": null,
      "outputs": []
    },
    {
      "cell_type": "code",
      "source": [
        "#save the feature list into a vector (sono i nomi delle colonne del dataset)\n",
        "features=list(df.columns.values)\n",
        "\n",
        "import graphviz\n",
        "dot_data = tree.export_graphviz(tree_clf, out_file=None, \n",
        "                     feature_names=features[:-1],  \n",
        "                     class_names=['0', '1', '2', '3', '4', '5'],  \n",
        "                     filled=True, rounded=True,  \n",
        "                     special_characters=True)  \n",
        "graph = graphviz.Source(dot_data)\n",
        "graph.render('Glass')\n",
        "graph"
      ],
      "metadata": {
        "id": "D26jSDfdD0D3"
      },
      "execution_count": null,
      "outputs": []
    },
    {
      "cell_type": "markdown",
      "source": [
        "Basandomi sull'accuracy generale tra queste tre prove, posso affermare che i valori migliori dei parametri del metodo sono quelli usati nella Prova 2"
      ],
      "metadata": {
        "id": "IpnAmB-DD137"
      }
    },
    {
      "cell_type": "markdown",
      "source": [
        "### 2.6 utilizzare il metodo per ipotizzare la classe di appartenenza dell'oggetto dell'esercizio 2.4"
      ],
      "metadata": {
        "id": "4hBiXxQrECr7"
      }
    },
    {
      "cell_type": "code",
      "source": [
        "daScoprire = [[1.51115, 17.38, 0.00, 0.34, 75.41, 0.00, 6.65, 0.00, 0.00]]\n",
        "predictdaScoprire = tree_clf.predict(daScoprire)\n",
        "predictdaScoprire"
      ],
      "metadata": {
        "id": "yhnOM-uLEDFm"
      },
      "execution_count": null,
      "outputs": []
    },
    {
      "cell_type": "markdown",
      "source": [
        "## Confronto"
      ],
      "metadata": {
        "id": "b0i6DXqxEQeR"
      }
    },
    {
      "cell_type": "markdown",
      "source": [
        "2.7 fare un confronto tra i due metodi e dire quale è il migliore a seconda delle richieste mettendo a confronto  le due confusion matrix e i due classification  report"
      ],
      "metadata": {
        "id": "2gLuuJjlETw4"
      }
    },
    {
      "cell_type": "code",
      "source": [
        "plot_confusion_matrix(confusion_matrix(y_test, predict), cmap=plt.cm.Dark2) #KNN\n",
        "plot_confusion_matrix(confusion_matrix(y_test, predict_dt2)) #Decision Tree\n",
        "\n",
        "plt.show()"
      ],
      "metadata": {
        "id": "Ct9I4vc8ER3z"
      },
      "execution_count": null,
      "outputs": []
    },
    {
      "cell_type": "code",
      "source": [
        "print(classification_report(y_test, predict))\n",
        "\n",
        "print(classification_report(y_test, predict_dt2))"
      ],
      "metadata": {
        "id": "-KItHcIlEW1v"
      },
      "execution_count": null,
      "outputs": []
    },
    {
      "cell_type": "markdown",
      "source": [
        "Basandomi sulle due classification report, posso affermare che, in questo caso, il metodo KNN è migliore del metodo decision tree per l'individuazione di tutte le classi tranne la \"5.0\" e la \"3.0\", in quanto sono le uniche classi dove l'f1-score del decision tree è più alto"
      ],
      "metadata": {
        "id": "nPg6rN9cEY1f"
      }
    },
    {
      "cell_type": "markdown",
      "source": [
        "## 2.8 "
      ],
      "metadata": {
        "id": "IGBfJvOGEc6X"
      }
    },
    {
      "cell_type": "markdown",
      "source": [
        "i dati dell'esercizio 2.4 sono presenti nel dataset. Controllare a quale classe appartengono e verificare se i metodi hanno classificato correttamente. I dati appartenevano al training set o al test set?"
      ],
      "metadata": {
        "id": "qOUDh1LmFXzw"
      }
    },
    {
      "cell_type": "code",
      "source": [
        "df[(df[\"RI\"] == 1.51115) & (df[\"Na\"] == 17.38) & (df[\"Mg\"] == 0.00) & (df[\"Al\"] == 0.34) & (df[\"Si\"] == 75.41) & (df[\"K\"] == 0.00) & (df[\"Ca\"] == 6.65) & (df[\"Ba\"] == 0.00) & (df[\"Fe\"] == 0.00)]"
      ],
      "metadata": {
        "id": "vSNMbTQIEe2Z"
      },
      "execution_count": null,
      "outputs": []
    },
    {
      "cell_type": "markdown",
      "source": [
        "I dati dell'esercizio 2.4 appartengono alla classe 6.0"
      ],
      "metadata": {
        "id": "8mrYUf7WEhbM"
      }
    },
    {
      "cell_type": "markdown",
      "source": [
        "# ESERCIZIO 3"
      ],
      "metadata": {
        "id": "gic8FHSwG0yi"
      }
    },
    {
      "cell_type": "markdown",
      "source": [
        "## Pulizia Dati"
      ],
      "metadata": {
        "id": "_vgmIt3vFQac"
      }
    },
    {
      "cell_type": "code",
      "source": [
        "import pandas as pd\n",
        "df = pd.read_csv(\"/content/drive/MyDrive/Colab Notebooks/ML 101.1-20230219T101028Z-001 (3)/ML 101.1/data/Copia di accent-mfcc-data-1.csv\")\n",
        "df"
      ],
      "metadata": {
        "id": "W5yKjTP0G37N",
        "colab": {
          "base_uri": "https://localhost:8080/",
          "height": 424
        },
        "outputId": "70a5db87-ea7a-46a1-b0a1-1cd6043d694a"
      },
      "execution_count": null,
      "outputs": [
        {
          "output_type": "execute_result",
          "data": {
            "text/plain": [
              "    language         X1        X2        X3         X4        X5         X6  \\\n",
              "0         ES   7.071476 -6.512900  7.650800  11.150783 -7.657312  12.484021   \n",
              "1         ES  10.982967 -5.157445  3.952060  11.529381 -7.638047  12.136098   \n",
              "2         ES   7.827108 -5.477472  7.816257   9.187592 -7.172511  11.715299   \n",
              "3         ES   6.744083 -5.688920  6.546789   9.000183 -6.924963  11.710766   \n",
              "4         ES   5.836843 -5.326557  7.472265   8.847440 -6.773244  12.677218   \n",
              "..       ...        ...       ...       ...        ...       ...        ...   \n",
              "324       US  -0.525273 -3.868338  3.548304   1.496249  3.490753   5.849887   \n",
              "325       US  -2.094001 -1.073113  1.217397  -0.550790  2.666547   7.449942   \n",
              "326       US   2.116909 -4.441482  5.350392   3.675396  2.715876   3.682670   \n",
              "327       US   0.299616  0.324844  3.299919   2.044040  3.634828   6.693840   \n",
              "328       US   3.214254 -3.135152  1.122691   4.712444  5.926518   6.915566   \n",
              "\n",
              "            X7         X8         X9        X10       X11       X12  \n",
              "0   -11.709772   3.426596   1.462715  -2.812753  0.866538 -5.244274  \n",
              "1   -12.036247   3.491943   0.595441  -4.508811  2.332147 -6.221857  \n",
              "2   -13.847214   4.574075  -1.687559  -7.204041 -0.011847 -6.463144  \n",
              "3   -12.374388   6.169879  -0.544747  -6.019237  1.358559 -6.356441  \n",
              "4   -12.315061   4.416344   0.193500  -3.644812  2.151239 -6.816310  \n",
              "..         ...        ...        ...        ...       ...       ...  \n",
              "324  -7.747027   9.738836 -11.754543   7.129909  0.209947 -1.946914  \n",
              "325  -6.418064  10.907098 -11.134323   6.728373  2.461446 -0.026113  \n",
              "326  -4.500850  11.798565 -12.031005   7.566142 -0.606010 -2.245129  \n",
              "327  -5.676224  12.000518 -11.912901   4.664406  1.197789 -2.230275  \n",
              "328  -5.799727  10.858532 -11.659845  10.605734  0.349482 -5.983281  \n",
              "\n",
              "[329 rows x 13 columns]"
            ],
            "text/html": [
              "\n",
              "  <div id=\"df-7c883727-8e8c-4bc3-aa01-11eb65a7d7ca\">\n",
              "    <div class=\"colab-df-container\">\n",
              "      <div>\n",
              "<style scoped>\n",
              "    .dataframe tbody tr th:only-of-type {\n",
              "        vertical-align: middle;\n",
              "    }\n",
              "\n",
              "    .dataframe tbody tr th {\n",
              "        vertical-align: top;\n",
              "    }\n",
              "\n",
              "    .dataframe thead th {\n",
              "        text-align: right;\n",
              "    }\n",
              "</style>\n",
              "<table border=\"1\" class=\"dataframe\">\n",
              "  <thead>\n",
              "    <tr style=\"text-align: right;\">\n",
              "      <th></th>\n",
              "      <th>language</th>\n",
              "      <th>X1</th>\n",
              "      <th>X2</th>\n",
              "      <th>X3</th>\n",
              "      <th>X4</th>\n",
              "      <th>X5</th>\n",
              "      <th>X6</th>\n",
              "      <th>X7</th>\n",
              "      <th>X8</th>\n",
              "      <th>X9</th>\n",
              "      <th>X10</th>\n",
              "      <th>X11</th>\n",
              "      <th>X12</th>\n",
              "    </tr>\n",
              "  </thead>\n",
              "  <tbody>\n",
              "    <tr>\n",
              "      <th>0</th>\n",
              "      <td>ES</td>\n",
              "      <td>7.071476</td>\n",
              "      <td>-6.512900</td>\n",
              "      <td>7.650800</td>\n",
              "      <td>11.150783</td>\n",
              "      <td>-7.657312</td>\n",
              "      <td>12.484021</td>\n",
              "      <td>-11.709772</td>\n",
              "      <td>3.426596</td>\n",
              "      <td>1.462715</td>\n",
              "      <td>-2.812753</td>\n",
              "      <td>0.866538</td>\n",
              "      <td>-5.244274</td>\n",
              "    </tr>\n",
              "    <tr>\n",
              "      <th>1</th>\n",
              "      <td>ES</td>\n",
              "      <td>10.982967</td>\n",
              "      <td>-5.157445</td>\n",
              "      <td>3.952060</td>\n",
              "      <td>11.529381</td>\n",
              "      <td>-7.638047</td>\n",
              "      <td>12.136098</td>\n",
              "      <td>-12.036247</td>\n",
              "      <td>3.491943</td>\n",
              "      <td>0.595441</td>\n",
              "      <td>-4.508811</td>\n",
              "      <td>2.332147</td>\n",
              "      <td>-6.221857</td>\n",
              "    </tr>\n",
              "    <tr>\n",
              "      <th>2</th>\n",
              "      <td>ES</td>\n",
              "      <td>7.827108</td>\n",
              "      <td>-5.477472</td>\n",
              "      <td>7.816257</td>\n",
              "      <td>9.187592</td>\n",
              "      <td>-7.172511</td>\n",
              "      <td>11.715299</td>\n",
              "      <td>-13.847214</td>\n",
              "      <td>4.574075</td>\n",
              "      <td>-1.687559</td>\n",
              "      <td>-7.204041</td>\n",
              "      <td>-0.011847</td>\n",
              "      <td>-6.463144</td>\n",
              "    </tr>\n",
              "    <tr>\n",
              "      <th>3</th>\n",
              "      <td>ES</td>\n",
              "      <td>6.744083</td>\n",
              "      <td>-5.688920</td>\n",
              "      <td>6.546789</td>\n",
              "      <td>9.000183</td>\n",
              "      <td>-6.924963</td>\n",
              "      <td>11.710766</td>\n",
              "      <td>-12.374388</td>\n",
              "      <td>6.169879</td>\n",
              "      <td>-0.544747</td>\n",
              "      <td>-6.019237</td>\n",
              "      <td>1.358559</td>\n",
              "      <td>-6.356441</td>\n",
              "    </tr>\n",
              "    <tr>\n",
              "      <th>4</th>\n",
              "      <td>ES</td>\n",
              "      <td>5.836843</td>\n",
              "      <td>-5.326557</td>\n",
              "      <td>7.472265</td>\n",
              "      <td>8.847440</td>\n",
              "      <td>-6.773244</td>\n",
              "      <td>12.677218</td>\n",
              "      <td>-12.315061</td>\n",
              "      <td>4.416344</td>\n",
              "      <td>0.193500</td>\n",
              "      <td>-3.644812</td>\n",
              "      <td>2.151239</td>\n",
              "      <td>-6.816310</td>\n",
              "    </tr>\n",
              "    <tr>\n",
              "      <th>...</th>\n",
              "      <td>...</td>\n",
              "      <td>...</td>\n",
              "      <td>...</td>\n",
              "      <td>...</td>\n",
              "      <td>...</td>\n",
              "      <td>...</td>\n",
              "      <td>...</td>\n",
              "      <td>...</td>\n",
              "      <td>...</td>\n",
              "      <td>...</td>\n",
              "      <td>...</td>\n",
              "      <td>...</td>\n",
              "      <td>...</td>\n",
              "    </tr>\n",
              "    <tr>\n",
              "      <th>324</th>\n",
              "      <td>US</td>\n",
              "      <td>-0.525273</td>\n",
              "      <td>-3.868338</td>\n",
              "      <td>3.548304</td>\n",
              "      <td>1.496249</td>\n",
              "      <td>3.490753</td>\n",
              "      <td>5.849887</td>\n",
              "      <td>-7.747027</td>\n",
              "      <td>9.738836</td>\n",
              "      <td>-11.754543</td>\n",
              "      <td>7.129909</td>\n",
              "      <td>0.209947</td>\n",
              "      <td>-1.946914</td>\n",
              "    </tr>\n",
              "    <tr>\n",
              "      <th>325</th>\n",
              "      <td>US</td>\n",
              "      <td>-2.094001</td>\n",
              "      <td>-1.073113</td>\n",
              "      <td>1.217397</td>\n",
              "      <td>-0.550790</td>\n",
              "      <td>2.666547</td>\n",
              "      <td>7.449942</td>\n",
              "      <td>-6.418064</td>\n",
              "      <td>10.907098</td>\n",
              "      <td>-11.134323</td>\n",
              "      <td>6.728373</td>\n",
              "      <td>2.461446</td>\n",
              "      <td>-0.026113</td>\n",
              "    </tr>\n",
              "    <tr>\n",
              "      <th>326</th>\n",
              "      <td>US</td>\n",
              "      <td>2.116909</td>\n",
              "      <td>-4.441482</td>\n",
              "      <td>5.350392</td>\n",
              "      <td>3.675396</td>\n",
              "      <td>2.715876</td>\n",
              "      <td>3.682670</td>\n",
              "      <td>-4.500850</td>\n",
              "      <td>11.798565</td>\n",
              "      <td>-12.031005</td>\n",
              "      <td>7.566142</td>\n",
              "      <td>-0.606010</td>\n",
              "      <td>-2.245129</td>\n",
              "    </tr>\n",
              "    <tr>\n",
              "      <th>327</th>\n",
              "      <td>US</td>\n",
              "      <td>0.299616</td>\n",
              "      <td>0.324844</td>\n",
              "      <td>3.299919</td>\n",
              "      <td>2.044040</td>\n",
              "      <td>3.634828</td>\n",
              "      <td>6.693840</td>\n",
              "      <td>-5.676224</td>\n",
              "      <td>12.000518</td>\n",
              "      <td>-11.912901</td>\n",
              "      <td>4.664406</td>\n",
              "      <td>1.197789</td>\n",
              "      <td>-2.230275</td>\n",
              "    </tr>\n",
              "    <tr>\n",
              "      <th>328</th>\n",
              "      <td>US</td>\n",
              "      <td>3.214254</td>\n",
              "      <td>-3.135152</td>\n",
              "      <td>1.122691</td>\n",
              "      <td>4.712444</td>\n",
              "      <td>5.926518</td>\n",
              "      <td>6.915566</td>\n",
              "      <td>-5.799727</td>\n",
              "      <td>10.858532</td>\n",
              "      <td>-11.659845</td>\n",
              "      <td>10.605734</td>\n",
              "      <td>0.349482</td>\n",
              "      <td>-5.983281</td>\n",
              "    </tr>\n",
              "  </tbody>\n",
              "</table>\n",
              "<p>329 rows × 13 columns</p>\n",
              "</div>\n",
              "      <button class=\"colab-df-convert\" onclick=\"convertToInteractive('df-7c883727-8e8c-4bc3-aa01-11eb65a7d7ca')\"\n",
              "              title=\"Convert this dataframe to an interactive table.\"\n",
              "              style=\"display:none;\">\n",
              "        \n",
              "  <svg xmlns=\"http://www.w3.org/2000/svg\" height=\"24px\"viewBox=\"0 0 24 24\"\n",
              "       width=\"24px\">\n",
              "    <path d=\"M0 0h24v24H0V0z\" fill=\"none\"/>\n",
              "    <path d=\"M18.56 5.44l.94 2.06.94-2.06 2.06-.94-2.06-.94-.94-2.06-.94 2.06-2.06.94zm-11 1L8.5 8.5l.94-2.06 2.06-.94-2.06-.94L8.5 2.5l-.94 2.06-2.06.94zm10 10l.94 2.06.94-2.06 2.06-.94-2.06-.94-.94-2.06-.94 2.06-2.06.94z\"/><path d=\"M17.41 7.96l-1.37-1.37c-.4-.4-.92-.59-1.43-.59-.52 0-1.04.2-1.43.59L10.3 9.45l-7.72 7.72c-.78.78-.78 2.05 0 2.83L4 21.41c.39.39.9.59 1.41.59.51 0 1.02-.2 1.41-.59l7.78-7.78 2.81-2.81c.8-.78.8-2.07 0-2.86zM5.41 20L4 18.59l7.72-7.72 1.47 1.35L5.41 20z\"/>\n",
              "  </svg>\n",
              "      </button>\n",
              "      \n",
              "  <style>\n",
              "    .colab-df-container {\n",
              "      display:flex;\n",
              "      flex-wrap:wrap;\n",
              "      gap: 12px;\n",
              "    }\n",
              "\n",
              "    .colab-df-convert {\n",
              "      background-color: #E8F0FE;\n",
              "      border: none;\n",
              "      border-radius: 50%;\n",
              "      cursor: pointer;\n",
              "      display: none;\n",
              "      fill: #1967D2;\n",
              "      height: 32px;\n",
              "      padding: 0 0 0 0;\n",
              "      width: 32px;\n",
              "    }\n",
              "\n",
              "    .colab-df-convert:hover {\n",
              "      background-color: #E2EBFA;\n",
              "      box-shadow: 0px 1px 2px rgba(60, 64, 67, 0.3), 0px 1px 3px 1px rgba(60, 64, 67, 0.15);\n",
              "      fill: #174EA6;\n",
              "    }\n",
              "\n",
              "    [theme=dark] .colab-df-convert {\n",
              "      background-color: #3B4455;\n",
              "      fill: #D2E3FC;\n",
              "    }\n",
              "\n",
              "    [theme=dark] .colab-df-convert:hover {\n",
              "      background-color: #434B5C;\n",
              "      box-shadow: 0px 1px 3px 1px rgba(0, 0, 0, 0.15);\n",
              "      filter: drop-shadow(0px 1px 2px rgba(0, 0, 0, 0.3));\n",
              "      fill: #FFFFFF;\n",
              "    }\n",
              "  </style>\n",
              "\n",
              "      <script>\n",
              "        const buttonEl =\n",
              "          document.querySelector('#df-7c883727-8e8c-4bc3-aa01-11eb65a7d7ca button.colab-df-convert');\n",
              "        buttonEl.style.display =\n",
              "          google.colab.kernel.accessAllowed ? 'block' : 'none';\n",
              "\n",
              "        async function convertToInteractive(key) {\n",
              "          const element = document.querySelector('#df-7c883727-8e8c-4bc3-aa01-11eb65a7d7ca');\n",
              "          const dataTable =\n",
              "            await google.colab.kernel.invokeFunction('convertToInteractive',\n",
              "                                                     [key], {});\n",
              "          if (!dataTable) return;\n",
              "\n",
              "          const docLinkHtml = 'Like what you see? Visit the ' +\n",
              "            '<a target=\"_blank\" href=https://colab.research.google.com/notebooks/data_table.ipynb>data table notebook</a>'\n",
              "            + ' to learn more about interactive tables.';\n",
              "          element.innerHTML = '';\n",
              "          dataTable['output_type'] = 'display_data';\n",
              "          await google.colab.output.renderOutput(dataTable, element);\n",
              "          const docLink = document.createElement('div');\n",
              "          docLink.innerHTML = docLinkHtml;\n",
              "          element.appendChild(docLink);\n",
              "        }\n",
              "      </script>\n",
              "    </div>\n",
              "  </div>\n",
              "  "
            ]
          },
          "metadata": {},
          "execution_count": 26
        }
      ]
    },
    {
      "cell_type": "code",
      "source": [
        "#2.2\n",
        "\n",
        "df['language'] = df['language'].replace('ES',0)\n",
        "df['language'] = df['language'].replace('FR',1)\n",
        "df['language'] = df['language'].replace('GE',2)\n",
        "df['language'] = df['language'].replace('IT',3)\n",
        "df['language'] = df['language'].replace('UK',4)\n",
        "df['language'] = df['language'].replace('US',5)\n",
        "df"
      ],
      "metadata": {
        "id": "z_gfxMeHHfvg"
      },
      "execution_count": null,
      "outputs": []
    },
    {
      "cell_type": "code",
      "source": [
        "import numpy as np\n",
        "dfnp = df.to_numpy()\n",
        "x=dfnp[:,1:] \n",
        "y=dfnp[:,0] \n",
        "\n",
        "import collections\n",
        "collections.Counter(y)"
      ],
      "metadata": {
        "id": "0zUBVSj2HuLX"
      },
      "execution_count": null,
      "outputs": []
    },
    {
      "cell_type": "code",
      "source": [
        "\n",
        "!pip install sklearn\n",
        "from sklearn.model_selection import train_test_split\n",
        "\n",
        "X_train, X_test, y_train, y_test = train_test_split(x, y, \n",
        "                                                    test_size = 0.30,\n",
        "                                                    stratify = y, \n",
        "                                                    random_state = 123) "
      ],
      "metadata": {
        "id": "piSBK5sXHxWH"
      },
      "execution_count": null,
      "outputs": []
    },
    {
      "cell_type": "markdown",
      "source": [
        "## KNN"
      ],
      "metadata": {
        "id": "dO2d-bx6IZRd"
      }
    },
    {
      "cell_type": "code",
      "source": [
        "#2.3\n",
        "\n",
        "accuracy = []\n",
        "from sklearn import metrics\n",
        "for k in range(1,40):\n",
        "    neigh = KNeighborsClassifier(n_neighbors = k).fit(X_train,y_train)\n",
        "    yhat = neigh.predict(X_test)\n",
        "    accuracy.append(metrics.accuracy_score(y_test, yhat))\n",
        "    \n",
        "plt.figure(figsize=(10,6))\n",
        "plt.plot(range(1,40),accuracy,color = 'blue',linestyle='dashed', \n",
        "         marker='o',markerfacecolor='red', markersize=10)\n",
        "plt.title('K Ottimale')\n",
        "plt.xlabel('K')\n",
        "plt.ylabel('Accuracy')\n",
        "print(\"Maximum accuracy:-\",max(accuracy),\"at K =\",accuracy.index(max(accuracy)) + 1 )"
      ],
      "metadata": {
        "id": "6KMkMM-oH2gB"
      },
      "execution_count": null,
      "outputs": []
    },
    {
      "cell_type": "code",
      "source": [
        "from sklearn.neighbors import KNeighborsClassifier\n",
        "from sklearn.metrics import accuracy_score\n",
        "\n",
        "neigh = KNeighborsClassifier(n_neighbors=6)\n",
        "neigh.fit(X_train, y_train) \n",
        "\n",
        "predict = neigh.predict(X_test) \n",
        "\n",
        "\n",
        "print(f'dati predetti dal metodo =                {predict[:10]}') \n",
        "print(f'dati reali presenti nel dataset di test = {y_test[:10]}') "
      ],
      "metadata": {
        "id": "tDnzxu9EH89h"
      },
      "execution_count": null,
      "outputs": []
    },
    {
      "cell_type": "code",
      "source": [
        "from mlxtend.plotting import plot_confusion_matrix\n",
        "from matplotlib import pyplot as plt\n",
        "from sklearn.metrics import confusion_matrix, classification_report\n",
        "\n",
        "plot_confusion_matrix(confusion_matrix(y_test, predict), cmap=plt.cm.Dark2)\n",
        "plt.show()"
      ],
      "metadata": {
        "id": "GMQOFaSHIBlJ"
      },
      "execution_count": null,
      "outputs": []
    },
    {
      "cell_type": "code",
      "source": [
        "#2.4\n",
        "\n",
        "Prova = [[1.58748169850998,0.00546117248979446,-1.37370216119175,2.16798060689537,-11.6280417992599,11.4742541860579,-7.9980890019126,5.75985089368138,-0.733238227803793,-3.07585758755774,3.09265899141867,-1.52261836853813]]\n",
        "predictProvaKNN = neigh.predict(Prova)\n",
        "predictProvaKNN"
      ],
      "metadata": {
        "id": "CvJi6Dr8IJ9Q"
      },
      "execution_count": null,
      "outputs": []
    },
    {
      "cell_type": "markdown",
      "source": [
        "## Decision Tree"
      ],
      "metadata": {
        "id": "g165XASPIeNv"
      }
    },
    {
      "cell_type": "code",
      "source": [
        "#2.5\n",
        "\n",
        "from sklearn import tree\n",
        "\n",
        "\n",
        "tree_clf = tree.DecisionTreeClassifier(criterion=\"gini\",\n",
        "                                       max_depth=4, # profondità dell'albero per evitare l'overfitting\n",
        "                                       min_samples_split=30, # dimensione minima del sottogruppo a cui fermarsi (no more split)\n",
        "                                       max_leaf_nodes=6, # numero dei nodi foglia\n",
        "                                       min_samples_leaf=4 # numero di campioni per essere una foglia\n",
        "                                      )\n",
        "\n",
        "\n",
        "tree_clf.fit(X_train,y_train)\n",
        "\n",
        "\n",
        "predict = tree_clf.predict(X_test)\n",
        "\n",
        "\n",
        "print(f'dati predetti dal metodo =                {predict[:10]}')\n",
        "print(f'dati reali presenti nel dataset di test = {y_test[:10]}')"
      ],
      "metadata": {
        "id": "oMGKH849IVro"
      },
      "execution_count": null,
      "outputs": []
    },
    {
      "cell_type": "code",
      "source": [
        "from mlxtend.plotting import plot_confusion_matrix\n",
        "from matplotlib import pyplot as plt\n",
        "from sklearn.metrics import confusion_matrix, classification_report\n",
        "\n",
        "plot_confusion_matrix(confusion_matrix(y_test, predict))\n",
        "plt.show()"
      ],
      "metadata": {
        "id": "Gl2blHGOIko4"
      },
      "execution_count": null,
      "outputs": []
    },
    {
      "cell_type": "code",
      "source": [
        "features=list(df.columns.values)\n",
        "print(features)\n",
        "print(features[1:13])\n",
        "import graphviz\n",
        "dot_data = tree.export_graphviz(tree_clf, out_file=None, \n",
        "                     feature_names=features[1:13],\n",
        "                     class_names=['0','1','2','3','4','5'],\n",
        "                     special_characters=True)  \n",
        "graph = graphviz.Source(dot_data)\n",
        "graph.render('Money')\n",
        "graph"
      ],
      "metadata": {
        "id": "N1ZPGvuxIn6Y"
      },
      "execution_count": null,
      "outputs": []
    },
    {
      "cell_type": "code",
      "source": [
        "from sklearn.tree import export_text\n",
        "r = export_text(tree_clf, feature_names=features[1:13])\n",
        "print(r)"
      ],
      "metadata": {
        "id": "TMjwq3WfIpPJ"
      },
      "execution_count": null,
      "outputs": []
    },
    {
      "cell_type": "code",
      "source": [
        "#2.6\n",
        "\n",
        "predictProvaDecisionTree = tree_clf.predict(Prova)\n",
        "predictProvaDecisionTree"
      ],
      "metadata": {
        "id": "-3iG6R1CIt4H"
      },
      "execution_count": null,
      "outputs": []
    },
    {
      "cell_type": "markdown",
      "source": [
        "## Confronto tra i 2 metodi"
      ],
      "metadata": {
        "id": "G81vDmwiIv4r"
      }
    },
    {
      "cell_type": "markdown",
      "source": [
        "2.7\n",
        "\n",
        "Confusion Matrix KNN\n",
        "\n",
        "![image.png](data:image/png;base64,iVBORw0KGgoAAAANSUhEUgAAAQMAAAEGCAYAAABhHPB4AAAaU0lEQVR4nO3df3hU9YHv8ff8yM/JhAkhgQguPysVCWClgCuCikG7WO22UrXVi1dcd9s+XWtdbW/bLYXaZ7d3Vx/v3ea5lmI0u4gWq7hu/VUedrvWatHYImgpIBEiGBJiJmFCfs7MuX98T0iMMRmGnDkn8fN6njyZM5mc74fDzCfnnDnnDIiIiIiIiIiIiIiIiAzF53aA/iI5WJML3E7RZ3/BJLcjiIyo+PutWG0dg77ug5kOM5TJBfDkVX63Y5xy2fI1bkcQGVGN66vpaesY9GfeeeWJiKtUBiICqAxExKYyEBFAZSAiNpWBiAAqAxGxqQxEBFAZiIhNZSAigMpARGwqAxEBPHai0pmKrLydccvXgmXRdeRNGh68Bauny7U8nXtqad2yA8tKErp4PuFVS1zL4tVMyjO0aNWzdL5xEH9hPhN/uNbRsZxeM7gS2Ae8DXzbyYGCkbMoqvg6dT9YxOHvzcfnDxBefL2TQw7JSiZp2byd4jtWM/GeW2nf+Ud6jja5lseLmZRnePkXlVP8zdUZGcvJMggAlcBngDnADfZ35/iD+LLzwB/Al51PPPqeo8MNpbu2nmBphGBpBF8wQP7ic+ncdcC1PF7MpDzDy5l9Nv5QXkbGcrIMFmHWCGqBbuAx4BqnBou3vEf0+XuZce8hZtx/lGRHK+1vbXdquGElW2IExheemg4UhUlE21zLA97LpDze4mQZTAbe7Td9xL5voNuAGqAm2pn+YP78CAXnX807d82k9o4p+HNChC/8cvozFPmY8cK7CRuBhcDCotz0Z5J/3uX0NB0iEWuCRJxYzTbyZl04UhlPmz8SJtF84tR0IhojUOTuNd28lkl5vMXJMjgKnN1veop9nyPi79eRO3Ox2WcA5M+5jO76vU4NN6zs6WXEG6LEj7dgxRO079xL7oJZruXxYibl8RYn31p8DfgEMB1TAtcDX3JqsM7aV2l77Qmmrq/BSsTpqttF669/5tRww/IF/ERurKDpvq2QtAgtLSdrcolrebyYSXmG1/zA03TtqyPZ1kH9nZUUXrOU0LL5jozl9NWR/wK4H/POQhXwo6EefF4xlrcuiHqX2xFERlTj+mp6Dh9z5erIz9pfIuJx3vkzLCKuUhmICKAyEBGbykBEAJWBiNhUBiICqAxExKYyEBFAZSAiNpWBiAAqAxGxqQxEBPDY1ZH3F0zisuVr3I5xyn/+9z+5HeFDdCalOEVrBiICqAxExKYyEBFAZSAiNpWBiAAqAxGxqQxEBFAZiIhNZSAigMpARGwqAxEBVAYiYlMZiAigMhARm6dOYT5TnXtqad2yA8tKErp4PuFVS1zNE1l5O+OWrwXLouvImzQ8eAtWT5ermby2jJRnaNGqZ+l84yD+wnwm/nCto2M5uWZQBTQCbzo4xilWMknL5u0U37GaiffcSvvOP9JztCkTQw8qGDmLooqvU/eDRRz+3nx8/gDhxde7lge8t4yUZ3j5F5VT/M3VGRnLyTJ4GLjSwfl/QHdtPcHSCMHSCL5ggPzF59K560Cmhh+cP4gvOw/8AXzZ+cSj77kax2vLSHmGlzP7bPyhvIyM5WQZvAg0Ozj/D0i2xAiMLzw1HSgKk4i2ZWr4D4m3vEf0+XuZce8hZtx/lGRHK+1vbXctD3hvGSmPt3hhB+JtQA1Qk2xrdzvLiPHnRyg4/2reuWsmtXdMwZ8TInzhl92OJfKRvFAGG4GFwEJ/QX7aM/FHwiSaT5yaTkRjBIoKzjxdmvLPu5yepkMkYk2QiBOr2UberAtdywPeW0bK4y1eKIMRkT29jHhDlPjxFqx4gvade8ldMMu1PPH368idudjsMwDy51xGd/1e1/KA95aR8njLmHlr0RfwE7mxgqb7tkLSIrS0nKzJJa7l6ax9lbbXnmDq+hqsRJyuul20/vpnruUB7y0j5Rle8wNP07WvjmRbB/V3VlJ4zVJCy+Y7MpbPkbkajwKXABOABmAd8OBQv5A1dZJVuk6XSh+KLpUuZ6JxfTU9h48N+rp3cs3gBgfnLSIjbMzsMxCRM6MyEBFAZSAiNpWBiAAqAxGxqQxEBFAZiIhNZSAigMpARGwqAxEBVAYiYlMZiAgwhk5hdoIXzxD02pmUXlxGkh6tGYgIoDIQEZvKQEQAlYGI2FQGIgKoDETEpjIQEUBlICI2lYGIACoDEbGpDEQEUBmIiE1lICLAGDtrsXNPLa1bdmBZSUIXzye8aony9JM16RzKvvpo33TJDN7fto6WX/1f1zJ5bRl5KU+8+QTRTc+QbD0JPggtX0BBxULHxhuqDGKAZd/u/aBGy75tAYXDzPts4F+BifbjNwL/J+2kw7CSSVo2b2fCndcRGB+mcUM1uQtmkTV5glNDjqo8AD3H9lP3/QvMhM/PjPvfpe31p1zL47Vl5LU8Pr+fcdddSvbUSSQ7umjcUE3OnGmO5RlqMyGMecEX2rfD/W4PVwQAceBOYA6wBPiafdsR3bX1BEsjBEsj+IIB8hefS+euA04NN+ryDJQ/ZwU9jQeJv1/nWgavLSOv5QlECsieOgkAf14OWWXFJFpijo2X6j6DpcD/tG9PAKan8Dv1wO/t2zFgLzD5tNKdhmRLjMD4vo4KFIVJRNucGm7U5RkovPg6Yr97zNUMXltGXsvTX7yplZ66BrJnnOXYGKmUwTrgW8D/sqezgc2nOc404Hxg5yA/uw2oAWqSbe2nOVtJSyCLgvM/S+y1X7idRFKQ7OymuXIb425YgT8vx7FxUimDvwSuBk7a0+9hNhVSVQA8AXwDODHIzzcCC4GF/oL805jtB/kjYRLNfbNPRGMEigrSnt+Z8lqe/kLzPkPn4T+QONHoag6vLSOv5QGw4gmaK7eRt2QOeRfMdnSsVMqgG7MDsHdnYug05p+FKYJHgCdPL9rpyZ5eRrwhSvx4C1Y8QfvOveQumOXkkKMqT3/hJde7vokA3ltGXstjWRbRh54jWFZM+IpFjo+XyluLW4GfAhHgr4BbgJ+l8Hs+4EHMvoL70g2YKl/AT+TGCpru2wpJi9DScrImlzg97KjJcypXdj6h8y6n8eG/cTuK55aR1/J0HzhKxytvEZxSQuO6hwAo/MIycufNdGQ83/APAaACWGnf/hWwPYXfWQr8BtgDJO37vgM8+1G/kDV1klW6bk2KkT6edHVkORON66vpOXxs0Nd9qgcd7QHyMJsKe1L8nZdIvWxExGWp7DO4FXgV+DxwLfA7zKaCiIwhqawZ3IV5W/B9e7oYeBmociqUiGReKmsG72MOGuoVo68YRGSMGGrN4Jv297cxBwv9O2afwTXAbodziUiGDVUGvQcWHbS/ev27c3FExC1DlcH6jKUQEdelsgOxBLgbOA/I7Xf/ZY4kEhFXpLID8RHgT5gzFdcDh4DXnAwlIpmXShkUYw4r7gH+G3OMgdYKRMaYVDYTeuzv9cAqzFmL4x1LJCKuSKUM7gHGYa5a9C+Yqxzd4WQoEcm8VMrgl/b3VuBSB7OIiIuGKoN/oe8aBoP52xHOIinQWYLilKHKoCZjKUTEdUOVQXXGUoiI6/SJSiICqAxExKYyEBEgtTI4B9gBvGlPzwO+51giEXFFKmXwM8wHqPQeibgbuN6xRCLiilTKIB9zDcT+4g5kEREXpVIGTcBM+g5AuhZznoKIjCGpHI78NcxHoH0SOAq8A9zoZCgRybxUyqAWuBzzsWp+PnhxVBEZI1Ipg+9/xP0bRjKIiLgrlTI42e92LnAV5vMTRWQMSaUM7h0w/c/ACw5kOWOde2pp3bIDy0oSung+4VVLXMsSbz5BdNMzJFtPgg9CyxdQULHQtTwA0apn6XzjIP7CfCb+cK2rWXq9cu23OBnvIpFMEreSrPqPn7iax2vLKJPP6VQ/a7G/fGBKCo/LBV4EcuxxfgGsS2O8lFjJJC2btzPhzusIjA/TuKGa3AWzyJo8wakhh+Tz+xl33aVkT51EsqOLxg3V5MyZ5loegPyLygmt+BTRTc+4lmEwq5/bSLSr3e0YgLeWUaaf06mUwR763lYMYK6WnMr+gi7MtRLbgCzMB7E+h/msxhHXXVtPsDRCsDQCQP7ic+ncdcC1F18gUkAgUgCAPy+HrLJiEi0xV8sgZ/bZxJtaXRt/NPDSMsr0czqVMriq3+040EBqBx1ZmCIAUwZZDH2xlDOSbIkRGF94ajpQFKa71huHQ8SbWumpayB7xlluR/EcC4stV6zFsiwe2fcqj+wfeHzbx1emn9PDlUEAs3/gk2nOPwC8DswCKjEf0zbQbfYXyTZvrCqOpGRnN82V2xh3wwr8eTlux/Gczz/7AMfaT1CcG+LRK27l7dbj7Gx4x+1YH0vDHYGYAPYBf5bm/BPAAsw+hkXA3EEesxFYCCz0F+SnOQz4I2ESzSf6Bo7GCBQVpD2/kWDFEzRXbiNvyRzyLpjtahavOtZu/s/e7zzJ84ffYkFJKrujPh4y/ZxO5XDkIuAtzJmLT/f7Oh0twH8BV57m76Use3oZ8YYo8eMtWPEE7Tv3krtgllPDDcuyLKIPPUewrJjwFYtcy+FlecEsQsHsU7eXTf4E+6INLqfyjkw/p1PZZ/D3ac67BHOmYwuQB1QAP05zXsPyBfxEbqyg6b6tkLQILS0na3KJU8MNq/vAUTpeeYvglBIa1z0EQOEXlpE7b6ZrmZofeJqufXUk2zqov7OSwmuWElo237U8JblhNq24CYCAz89Ttbv49dH9ruUBby2jTD+nfSk85sfAt1K4b6B5mOsoBjBrIFsZ5l2IrKmTrNJ1a1KIJCLpaFxfTc/hY4O+7lPZTKgY5L7PpPB7u4HzMaUwFx2+LOJpQ20mfAX4KjAD88LuFQZ+62QoEcm8ocpgC+YgoX8Avt3v/hjQ7GQoEcm8ocqg1f66IUNZRMRFujqyiAAqAxGxqQxEBFAZiIhNZSAigMpARGwqAxEBVAYiYlMZiAiQ3gVRRTzrS7uXuh3hQ7bMe8ntCCnRmoGIACoDEbGpDEQEUBmIiE1lICKAykBEbCoDEQFUBiJiUxmICKAyEBGbykBEAJWBiNhUBiICjLGzFjv31NK6ZQeWlSR08XzCq5Yoj8czuZ1n9fXzOHfORNraurjvf78IQPn8MiquPIfS0gJ+cv9LHHm3NaOZesWbTxDd9AzJ1pPgg9DyBRRULHRsvEysGQSAPwC/dHIQK5mkZfN2iu9YzcR7bqV95x/pOdrk5JCjKo8XM3khT82rR3hw484P3NdQH+Pfqmp4p9bdDw7z+f2Mu+5SJv7oVkq+exNt//l7R5dPJsrgdmCv04N019YTLI0QLI3gCwbIX3wunbsOOD3sqMnjxUxeyPNObTPtJ3s+cF9jYxvHj5/MaI7BBCIFZE+dBIA/L4essmISLTHHxnO6DKYAq4BNDo9DsiVGYHzhqelAUZhEtM3pYUdNHvBeJq/l8bJ4Uys9dQ1kzzjLsTGcLoP7gbuB5BCPuQ2oAWqSbe0OxxEZfZKd3TRXbmPcDSvw5+U4No6TZXAV0Ai8PszjNgILgYX+gvy0B/NHwiSaT5yaTkRjBIoK0p7fmfJaHvBeJq/l8SIrnqC5cht5S+aQd8FsR8dysgwuAq4GDgGPAZcBm50aLHt6GfGGKPHjLVjxBO0795K7YJZTw426PF7M5LU8XmNZFtGHniNYVkz4ikWOj+dzfATjEuDvMGsLHylr6iSrdN2atAfp3H2Qlkd3QNIitLSc8Gf/PO15jQSv5fFippHOc7oXRP3STeczY1YxoVA2sVgX25/fT3t7D9d8/jwKCrLp6Ijz3tFWHvzpq2lnSveCqF37j9D0j48QnFKCz2deqoVfWEbuvJlpZ2lcX03P4WODvu7HVBmI6OrIQxuqDDJ10NGv7S8R8SgdjiwigMpARGwqAxEBVAYiYlMZiAigMhARm8pARACVgYjYVAYiAqgMRMSmMhARQGUgIjaVgYgAY+xS6SJeOl2416rfRd2OcMqTJ+N81PWVtWYgIoDKQERsKgMRAVQGImJTGYgIoDIQEZvKQEQAlYGI2FQGIgKoDETEpjIQEUBlICI2lYGIAGPwrEUrmeT4hmr8kTATvnGtq1k699TSumUHlpUkdPF8wquWuJon3nyC6KZnSLaeBB+Eli+goGKhq5m8toyiVc/S+cZB/IX5TPzhWtdy+Hw+vvOd79DS0kJlZSU33XQTU6dOxefz0dDQQHV1NV1dXSM6ptNlcAiIAQkgDjj+zGvbXkOwrJhkR7fTQw3JSiZp2bydCXdeR2B8mMYN1eQumEXW5AmuZfL5/Yy77lKyp04i2dFF44ZqcuZMcy2TF5dR/kXlhFZ8iuimZ1zLALBixQqOHTtGbm4uAI8//jidnZ0ArF69mksuuYQXXnhhRMfMxGbCpcACMlAEieYTdO2uJbRsvtNDDau7tp5gaYRgaQRfMED+4nPp3HXA1UyBSAHZUycB4M/LIausmERLzLU8XlxGObPPxh/KczVDJBKhvLycl17quzZDbxEAZGVlOTLumNpMaHl0B4WrL8HqdHetACDZEiMwvvDUdKAoTHdtvYuJPije1EpPXQPZM85yLYPXl5FbvvjFL/LEE0+cWivotWbNGubOnUt9fT2PP/74iI/r9JqBBfwKeB247SMecxtQA9Qk29rTHqhj19sECkNkT5uU9jw+LpKd3TRXbmPcDSvw5+W4HUf6KS8vJxaLUVdX96GfVVdXc/fdd1NfX8+nP/3pER/b6TWDpcBRoBTYDvwJeHHAYzbaX/gL8q10B+p++ygduw7QufsgVk8Cq7OL5o3/wfjbPpvuLM+IPxIm0Xzi1HQiGiNQVOBKlv6seILmym3kLZlD3gWzXc3i1WXkppkzZzJ//nzmzp1LVlYWeXl53HLLLVRVVQFgWRY1NTWsXLmSl19+eUTHdroMjtrfG4FtwCI+XAYjYty1yxl37XIAuv5UR+z5V10rAoDs6WXEG6LEj7cQKArTvnMv4//avTxgnkjRh54jWFZM+IpFrmYBby4jtz311FM89dRTAJxzzjlUVFRQVVVFSUkJx48fB2DevHkcO3ZsxMd2sgxCmM2QmH17JbDBwfE8xRfwE7mxgqb7tkLSIrS0nKzJJa5m6j5wlI5X3iI4pYTGdQ8BUPiFZeTOm+lKHi8uo+YHnqZrXx3Jtg7q76yk8Jqlru+Q9vl83HzzzeTlmR2bR44cYcuWLSM/zojPsc8MzNoAmNLZAvxoqF/ImjrJKl23xsFIIpnnqasjP/kkTU1Ng77unVwzqAXcf49PRFKiw5FFBFAZiIhNZSAigMpARGwqAxEBVAYiYlMZiAigMhARm8pARACVgYjYVAYiAqgMRMTm5FmL6TgOHB6B+UwAmkZgPiNFeYbmtTzgvUwjlWcq4O554hlW43aAAZRnaF7LA97L5HgebSaICKAyEBFbwO0ADnrd7QADKM/QvJYHvJfJa3lERERERERGkyuBfcDbwLddzgJQhfnMiDfdDmI7G/gv4I/AW8Dt7sYhF3gVeAOTZ727cU4JAH8Aful2ENshYA+wC++95elJAeAg5hLt2Zgn2BxXE8Ey4FN4pwzKMHkAwsB+3F1GPqD3I5SygJ2Au5/JbnwTc2l/L5WB4x9NPZbeWlyEWSOoBbqBx4BrXE1kPj2q2eUM/dUDv7dvx4C9wGT34mABbfbtLPsr7Y/YGyFTgFXAJpdzZNxYKoPJwLv9po/g7hPd66YB52P+GrspgFn9bcR8Hqfbee4H7gaSLufoL5UPMD5jY6kMJHUFwBPAN4ATwzzWaQlgAeYv8iJgrotZrsKUktfez1+K2bz7DPA1zObniBtLZXAUs4Os1xT6PvhV+mRhiuAR4EmXs/TXgtm5eaWLGS4CrsZsoz8GXAZsdjFPr8E+wFiGEMTsL5hO3w7E81xNZEzDOzsQfcC/YlaFvaAEiNi384DfYP46e8EleGMHYgizs7f39su4W5ijxl9g9pAfBL7rchaARzE77Xow+zDWuhuHpZjtz92Y7fRdmGXmlnmYt/B2Ywrz+y5mGcgrZTAD84et9+1XLzyvRURERERERERERERE5GOl/1tnVzP0WZ4R4KtpjPED4O9O4/7+HgauPY2xvHQ8x6g0lo5AFCOdS9k9DfzjED9PtwxkFFEZjB7TgD9hDiPeC/wCyLd/dgj4MeaMxNXASuAVe/px+k4TvtKex++Bz/eb983AT+zbEzGHvPYe6PLnmKKYiTlI6Z/sx90FvIY5YKj/dQi+iznw6yVgdgr/rr+y5/MG5jDp/H4/uxxz/v5++o5MDNgZesf+6xTGEBlTpmGOHrzInq6ib1X7EOZMOzDnvb+IOXQV4FuYI/tyMWd1fgJzWPJW+jYT+pfBzzEnMIF54Y3jw6vgK4GN9nz89nyWARdgLsKRDxRiTikfbjOhuN/99wBft28/DDxvz/8TmCM4czFn7X3PfkwOpiymD5JRTlPQ7QByWt4Ffmvf3gz8LfDP9vTP7e9LMBcs6X1cNmYt4ZPAO8CBfr8/2OmwlwH/w76dAFqBogGPWWl//cGeLsC8YMOYtYp2+/6nU/g3zcWUQMSezwv9frYVcyrxAcx5J5+0x51H3/6EcfbY+1MYS4agMhhdBl74o//0Sfu7D3NdgBsGPHbBCObwAf8A/HTA/d8Y5LHDeRj4HGYz4WbMjs1eg/17fZi1hxcG/GxaGmNLP9pnMLr8GXChfftLmO3ygX6H2ZSYZU+HgHMw+wqmYbb94cNl0WsH8BX7du9mQoy+M+fAvBBvoW9fxGSgFLN58jnMGYhh4LMp/JvCmJO5soAvD/jZasxzdCbmhJ199thfsR+P/W8LIWdMawajyz7MxS2qMBc1/X+DPOY45i/so5htajDb2PsxmwXPYFbjf8MHX+C9bsfsD1iL2Uz4CmYz47eYbfLnMDsPz7XvB3PpshsxOyZ/jvkr34jZyTecv8dc3ei4/b1/pjrMBVMLgb8BOjGXI5tmj+Wzf+9zKYwjMmZoB5k4SpsJIiIiIiIiIiIiIiIiIpKC/w9duoOAGQbzBwAAAABJRU5ErkJggg==)\n",
        "\n",
        "\n",
        "Confusion Matrix Decision Tree\n",
        "\n",
        "![image.png](data:image/png;base64,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)\n",
        "\n",
        "Mettendo a confronto le 2 confusion matrix possiamo dire che il metodo Decision Tree è molto accurato a trovare la classe 5 ma pecca per le altre classi invece il metodo KNN è molto accurato a trovare la classe 5 ed è abbastanza accurato a trovare le altre classi"
      ],
      "metadata": {
        "id": "RAXGRWCwI2jQ"
      }
    },
    {
      "cell_type": "code",
      "source": [
        "#Classification Report KNN\n",
        "print(classification_report(y_test, predict))"
      ],
      "metadata": {
        "id": "oPKKgdtSJCAX"
      },
      "execution_count": null,
      "outputs": []
    },
    {
      "cell_type": "code",
      "source": [
        "#Classification Report Decision Tree\n",
        "print(classification_report(y_test, predict))"
      ],
      "metadata": {
        "id": "1oMukScPI-eQ"
      },
      "execution_count": null,
      "outputs": []
    },
    {
      "cell_type": "code",
      "source": [
        "#2.8\n",
        "df[df['X1']==1.58748169850998 ]\n",
        "\n",
        "#Apparteneva alla classe 3(IT) e i 2 metodi non hanno classificato correttamente"
      ],
      "metadata": {
        "id": "ekwrgyaRJUqT"
      },
      "execution_count": null,
      "outputs": []
    },
    {
      "cell_type": "markdown",
      "source": [
        "# Random Forest"
      ],
      "metadata": {
        "id": "Frbc8MWYFqZI"
      }
    },
    {
      "cell_type": "code",
      "source": [],
      "metadata": {
        "id": "gSxANfd1FsyQ"
      },
      "execution_count": null,
      "outputs": []
    }
  ]
}